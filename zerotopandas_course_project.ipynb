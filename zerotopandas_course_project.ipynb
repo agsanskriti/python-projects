{
  "cells": [
    {
      "cell_type": "markdown",
      "metadata": {
        "id": "mDO6NebqUDjd"
      },
      "source": [
        "# Exploratory data analysis of Global alcohol consumption.\n",
        "The data shows different forms in which the Alcohol is consumed across 189 countries for the year 2016 collected by WHO. It contains information on total Alcohol consumed, percentage of it consumed as beer, wine, spirits and other uses respectively. Additionaly, it also contains information on consumption that was unrecorded hinting towards existence of illegal sales.\n"
      ]
    },
    {
      "cell_type": "markdown",
      "metadata": {
        "id": "0sKSEr7XUDjn"
      },
      "source": [
        "## Data Preparation and Cleaning\n",
        "\n",
        "We first look at the raw data and try to figure out is there are any null values, duplicate rows or wrong values. Next,we attain some very basic information about the data\n",
        "\n"
      ]
    },
    {
      "cell_type": "code",
      "execution_count": null,
      "metadata": {
        "id": "qlkgeaGyUDjn"
      },
      "outputs": [],
      "source": [
        "import pandas as pd"
      ]
    },
    {
      "cell_type": "code",
      "execution_count": null,
      "metadata": {
        "id": "Nr01g5rIUDjo",
        "outputId": "9a384b48-8bf3-4266-831f-5272c85a1f6c"
      },
      "outputs": [
        {
          "data": {
            "text/html": [
              "<div>\n",
              "<style scoped>\n",
              "    .dataframe tbody tr th:only-of-type {\n",
              "        vertical-align: middle;\n",
              "    }\n",
              "\n",
              "    .dataframe tbody tr th {\n",
              "        vertical-align: top;\n",
              "    }\n",
              "\n",
              "    .dataframe thead th {\n",
              "        text-align: right;\n",
              "    }\n",
              "</style>\n",
              "<table border=\"1\" class=\"dataframe\">\n",
              "  <thead>\n",
              "    <tr style=\"text-align: right;\">\n",
              "      <th></th>\n",
              "      <th>country</th>\n",
              "      <th>total_consumption</th>\n",
              "      <th>recorded_consumption</th>\n",
              "      <th>unrecorded_consumption</th>\n",
              "      <th>beer_percentage</th>\n",
              "      <th>wine_percentage</th>\n",
              "      <th>spirits_percentage</th>\n",
              "      <th>other_percentage</th>\n",
              "      <th>2020_projection</th>\n",
              "      <th>2025_projection</th>\n",
              "    </tr>\n",
              "  </thead>\n",
              "  <tbody>\n",
              "    <tr>\n",
              "      <th>0</th>\n",
              "      <td>Estonia</td>\n",
              "      <td>16.9</td>\n",
              "      <td>15.8</td>\n",
              "      <td>1.1</td>\n",
              "      <td>32.7</td>\n",
              "      <td>7.4</td>\n",
              "      <td>50.3</td>\n",
              "      <td>9.6</td>\n",
              "      <td>11.5</td>\n",
              "      <td>11.9</td>\n",
              "    </tr>\n",
              "    <tr>\n",
              "      <th>1</th>\n",
              "      <td>Lithuania</td>\n",
              "      <td>15.0</td>\n",
              "      <td>13.8</td>\n",
              "      <td>1.2</td>\n",
              "      <td>43.6</td>\n",
              "      <td>7.3</td>\n",
              "      <td>37.1</td>\n",
              "      <td>12.1</td>\n",
              "      <td>14.4</td>\n",
              "      <td>13.9</td>\n",
              "    </tr>\n",
              "    <tr>\n",
              "      <th>2</th>\n",
              "      <td>Czech Republic</td>\n",
              "      <td>14.3</td>\n",
              "      <td>12.4</td>\n",
              "      <td>1.4</td>\n",
              "      <td>53.3</td>\n",
              "      <td>21.3</td>\n",
              "      <td>25.4</td>\n",
              "      <td>0.0</td>\n",
              "      <td>11.2</td>\n",
              "      <td>11.4</td>\n",
              "    </tr>\n",
              "    <tr>\n",
              "      <th>3</th>\n",
              "      <td>Seychelles</td>\n",
              "      <td>13.8</td>\n",
              "      <td>12.4</td>\n",
              "      <td>1.4</td>\n",
              "      <td>68.9</td>\n",
              "      <td>22.4</td>\n",
              "      <td>6.3</td>\n",
              "      <td>2.5</td>\n",
              "      <td>10.4</td>\n",
              "      <td>10.6</td>\n",
              "    </tr>\n",
              "    <tr>\n",
              "      <th>4</th>\n",
              "      <td>Germany</td>\n",
              "      <td>13.4</td>\n",
              "      <td>11.3</td>\n",
              "      <td>1.4</td>\n",
              "      <td>52.6</td>\n",
              "      <td>28.4</td>\n",
              "      <td>18.9</td>\n",
              "      <td>0.0</td>\n",
              "      <td>12.8</td>\n",
              "      <td>12.6</td>\n",
              "    </tr>\n",
              "    <tr>\n",
              "      <th>...</th>\n",
              "      <td>...</td>\n",
              "      <td>...</td>\n",
              "      <td>...</td>\n",
              "      <td>...</td>\n",
              "      <td>...</td>\n",
              "      <td>...</td>\n",
              "      <td>...</td>\n",
              "      <td>...</td>\n",
              "      <td>...</td>\n",
              "      <td>...</td>\n",
              "    </tr>\n",
              "    <tr>\n",
              "      <th>184</th>\n",
              "      <td>Bangladesh</td>\n",
              "      <td>0.0</td>\n",
              "      <td>0.0</td>\n",
              "      <td>0.0</td>\n",
              "      <td>NaN</td>\n",
              "      <td>NaN</td>\n",
              "      <td>NaN</td>\n",
              "      <td>NaN</td>\n",
              "      <td>0.0</td>\n",
              "      <td>0.0</td>\n",
              "    </tr>\n",
              "    <tr>\n",
              "      <th>185</th>\n",
              "      <td>Kuwait</td>\n",
              "      <td>0.0</td>\n",
              "      <td>0.0</td>\n",
              "      <td>0.0</td>\n",
              "      <td>NaN</td>\n",
              "      <td>NaN</td>\n",
              "      <td>NaN</td>\n",
              "      <td>NaN</td>\n",
              "      <td>0.0</td>\n",
              "      <td>0.0</td>\n",
              "    </tr>\n",
              "    <tr>\n",
              "      <th>186</th>\n",
              "      <td>Libya</td>\n",
              "      <td>0.0</td>\n",
              "      <td>0.0</td>\n",
              "      <td>0.0</td>\n",
              "      <td>NaN</td>\n",
              "      <td>NaN</td>\n",
              "      <td>NaN</td>\n",
              "      <td>NaN</td>\n",
              "      <td>0.0</td>\n",
              "      <td>0.0</td>\n",
              "    </tr>\n",
              "    <tr>\n",
              "      <th>187</th>\n",
              "      <td>Mauritania</td>\n",
              "      <td>0.0</td>\n",
              "      <td>0.0</td>\n",
              "      <td>0.0</td>\n",
              "      <td>NaN</td>\n",
              "      <td>NaN</td>\n",
              "      <td>NaN</td>\n",
              "      <td>NaN</td>\n",
              "      <td>0.0</td>\n",
              "      <td>0.0</td>\n",
              "    </tr>\n",
              "    <tr>\n",
              "      <th>188</th>\n",
              "      <td>Somalia</td>\n",
              "      <td>0.0</td>\n",
              "      <td>0.0</td>\n",
              "      <td>0.0</td>\n",
              "      <td>NaN</td>\n",
              "      <td>NaN</td>\n",
              "      <td>NaN</td>\n",
              "      <td>NaN</td>\n",
              "      <td>0.0</td>\n",
              "      <td>0.0</td>\n",
              "    </tr>\n",
              "  </tbody>\n",
              "</table>\n",
              "<p>189 rows × 10 columns</p>\n",
              "</div>"
            ],
            "text/plain": [
              "            country  total_consumption  recorded_consumption  \\\n",
              "0           Estonia               16.9                  15.8   \n",
              "1         Lithuania               15.0                  13.8   \n",
              "2    Czech Republic               14.3                  12.4   \n",
              "3        Seychelles               13.8                  12.4   \n",
              "4           Germany               13.4                  11.3   \n",
              "..              ...                ...                   ...   \n",
              "184      Bangladesh                0.0                   0.0   \n",
              "185          Kuwait                0.0                   0.0   \n",
              "186           Libya                0.0                   0.0   \n",
              "187      Mauritania                0.0                   0.0   \n",
              "188         Somalia                0.0                   0.0   \n",
              "\n",
              "     unrecorded_consumption  beer_percentage  wine_percentage  \\\n",
              "0                       1.1             32.7              7.4   \n",
              "1                       1.2             43.6              7.3   \n",
              "2                       1.4             53.3             21.3   \n",
              "3                       1.4             68.9             22.4   \n",
              "4                       1.4             52.6             28.4   \n",
              "..                      ...              ...              ...   \n",
              "184                     0.0              NaN              NaN   \n",
              "185                     0.0              NaN              NaN   \n",
              "186                     0.0              NaN              NaN   \n",
              "187                     0.0              NaN              NaN   \n",
              "188                     0.0              NaN              NaN   \n",
              "\n",
              "     spirits_percentage  other_percentage  2020_projection  2025_projection  \n",
              "0                  50.3               9.6             11.5             11.9  \n",
              "1                  37.1              12.1             14.4             13.9  \n",
              "2                  25.4               0.0             11.2             11.4  \n",
              "3                   6.3               2.5             10.4             10.6  \n",
              "4                  18.9               0.0             12.8             12.6  \n",
              "..                  ...               ...              ...              ...  \n",
              "184                 NaN               NaN              0.0              0.0  \n",
              "185                 NaN               NaN              0.0              0.0  \n",
              "186                 NaN               NaN              0.0              0.0  \n",
              "187                 NaN               NaN              0.0              0.0  \n",
              "188                 NaN               NaN              0.0              0.0  \n",
              "\n",
              "[189 rows x 10 columns]"
            ]
          },
          "execution_count": 5,
          "metadata": {},
          "output_type": "execute_result"
        }
      ],
      "source": [
        "Alcohol_Raw_df = pd.read_csv('alcohol-consumption.csv')\n",
        "Alcohol_Raw_df"
      ]
    },
    {
      "cell_type": "code",
      "execution_count": null,
      "metadata": {
        "id": "W4YTeaBZUDjp",
        "outputId": "53aa27dd-c6ff-4907-c518-dfbf0e405d3c"
      },
      "outputs": [
        {
          "name": "stdout",
          "output_type": "stream",
          "text": [
            "<class 'pandas.core.frame.DataFrame'>\n",
            "RangeIndex: 189 entries, 0 to 188\n",
            "Data columns (total 10 columns):\n",
            " #   Column                  Non-Null Count  Dtype  \n",
            "---  ------                  --------------  -----  \n",
            " 0   country                 189 non-null    object \n",
            " 1   total_consumption       189 non-null    float64\n",
            " 2   recorded_consumption    189 non-null    float64\n",
            " 3   unrecorded_consumption  189 non-null    float64\n",
            " 4   beer_percentage         179 non-null    float64\n",
            " 5   wine_percentage         179 non-null    float64\n",
            " 6   spirits_percentage      179 non-null    float64\n",
            " 7   other_percentage        179 non-null    float64\n",
            " 8   2020_projection         189 non-null    float64\n",
            " 9   2025_projection         189 non-null    float64\n",
            "dtypes: float64(9), object(1)\n",
            "memory usage: 14.9+ KB\n"
          ]
        }
      ],
      "source": [
        "Alcohol_Raw_df.info()"
      ]
    },
    {
      "cell_type": "code",
      "execution_count": null,
      "metadata": {
        "scrolled": true,
        "id": "SuvZYKhKUDjq",
        "outputId": "d6ed4252-09b9-4ab2-f50f-d62e1a529968"
      },
      "outputs": [
        {
          "data": {
            "text/plain": [
              "0      False\n",
              "1      False\n",
              "2      False\n",
              "3      False\n",
              "4      False\n",
              "       ...  \n",
              "184    False\n",
              "185    False\n",
              "186    False\n",
              "187    False\n",
              "188    False\n",
              "Length: 189, dtype: bool"
            ]
          },
          "execution_count": 7,
          "metadata": {},
          "output_type": "execute_result"
        }
      ],
      "source": [
        "Alcohol_Raw_df.duplicated()"
      ]
    },
    {
      "cell_type": "code",
      "execution_count": null,
      "metadata": {
        "scrolled": false,
        "id": "VWZ09Q4nUDjq",
        "outputId": "489138d9-71c6-4423-edd3-7fce490a0827"
      },
      "outputs": [
        {
          "data": {
            "text/html": [
              "<div>\n",
              "<style scoped>\n",
              "    .dataframe tbody tr th:only-of-type {\n",
              "        vertical-align: middle;\n",
              "    }\n",
              "\n",
              "    .dataframe tbody tr th {\n",
              "        vertical-align: top;\n",
              "    }\n",
              "\n",
              "    .dataframe thead th {\n",
              "        text-align: right;\n",
              "    }\n",
              "</style>\n",
              "<table border=\"1\" class=\"dataframe\">\n",
              "  <thead>\n",
              "    <tr style=\"text-align: right;\">\n",
              "      <th></th>\n",
              "      <th>country</th>\n",
              "      <th>total_consumption</th>\n",
              "      <th>recorded_consumption</th>\n",
              "      <th>unrecorded_consumption</th>\n",
              "      <th>beer_percentage</th>\n",
              "      <th>wine_percentage</th>\n",
              "      <th>spirits_percentage</th>\n",
              "      <th>other_percentage</th>\n",
              "      <th>2020_projection</th>\n",
              "      <th>2025_projection</th>\n",
              "    </tr>\n",
              "  </thead>\n",
              "  <tbody>\n",
              "    <tr>\n",
              "      <th>0</th>\n",
              "      <td>Estonia</td>\n",
              "      <td>16.9</td>\n",
              "      <td>15.8</td>\n",
              "      <td>1.1</td>\n",
              "      <td>32.7</td>\n",
              "      <td>7.4</td>\n",
              "      <td>50.3</td>\n",
              "      <td>9.6</td>\n",
              "      <td>11.5</td>\n",
              "      <td>11.9</td>\n",
              "    </tr>\n",
              "    <tr>\n",
              "      <th>1</th>\n",
              "      <td>Lithuania</td>\n",
              "      <td>15.0</td>\n",
              "      <td>13.8</td>\n",
              "      <td>1.2</td>\n",
              "      <td>43.6</td>\n",
              "      <td>7.3</td>\n",
              "      <td>37.1</td>\n",
              "      <td>12.1</td>\n",
              "      <td>14.4</td>\n",
              "      <td>13.9</td>\n",
              "    </tr>\n",
              "    <tr>\n",
              "      <th>2</th>\n",
              "      <td>Czech Republic</td>\n",
              "      <td>14.3</td>\n",
              "      <td>12.4</td>\n",
              "      <td>1.4</td>\n",
              "      <td>53.3</td>\n",
              "      <td>21.3</td>\n",
              "      <td>25.4</td>\n",
              "      <td>0.0</td>\n",
              "      <td>11.2</td>\n",
              "      <td>11.4</td>\n",
              "    </tr>\n",
              "    <tr>\n",
              "      <th>3</th>\n",
              "      <td>Seychelles</td>\n",
              "      <td>13.8</td>\n",
              "      <td>12.4</td>\n",
              "      <td>1.4</td>\n",
              "      <td>68.9</td>\n",
              "      <td>22.4</td>\n",
              "      <td>6.3</td>\n",
              "      <td>2.5</td>\n",
              "      <td>10.4</td>\n",
              "      <td>10.6</td>\n",
              "    </tr>\n",
              "    <tr>\n",
              "      <th>4</th>\n",
              "      <td>Germany</td>\n",
              "      <td>13.4</td>\n",
              "      <td>11.3</td>\n",
              "      <td>1.4</td>\n",
              "      <td>52.6</td>\n",
              "      <td>28.4</td>\n",
              "      <td>18.9</td>\n",
              "      <td>0.0</td>\n",
              "      <td>12.8</td>\n",
              "      <td>12.6</td>\n",
              "    </tr>\n",
              "    <tr>\n",
              "      <th>...</th>\n",
              "      <td>...</td>\n",
              "      <td>...</td>\n",
              "      <td>...</td>\n",
              "      <td>...</td>\n",
              "      <td>...</td>\n",
              "      <td>...</td>\n",
              "      <td>...</td>\n",
              "      <td>...</td>\n",
              "      <td>...</td>\n",
              "      <td>...</td>\n",
              "    </tr>\n",
              "    <tr>\n",
              "      <th>176</th>\n",
              "      <td>Egypt</td>\n",
              "      <td>0.4</td>\n",
              "      <td>0.2</td>\n",
              "      <td>0.2</td>\n",
              "      <td>62.0</td>\n",
              "      <td>4.4</td>\n",
              "      <td>33.1</td>\n",
              "      <td>0.6</td>\n",
              "      <td>0.4</td>\n",
              "      <td>0.5</td>\n",
              "    </tr>\n",
              "    <tr>\n",
              "      <th>177</th>\n",
              "      <td>Iraq</td>\n",
              "      <td>0.4</td>\n",
              "      <td>0.2</td>\n",
              "      <td>0.2</td>\n",
              "      <td>71.0</td>\n",
              "      <td>2.4</td>\n",
              "      <td>25.7</td>\n",
              "      <td>0.9</td>\n",
              "      <td>0.5</td>\n",
              "      <td>0.6</td>\n",
              "    </tr>\n",
              "    <tr>\n",
              "      <th>178</th>\n",
              "      <td>Kiribati</td>\n",
              "      <td>0.4</td>\n",
              "      <td>0.4</td>\n",
              "      <td>0.2</td>\n",
              "      <td>100.0</td>\n",
              "      <td>0.0</td>\n",
              "      <td>0.0</td>\n",
              "      <td>0.0</td>\n",
              "      <td>0.4</td>\n",
              "      <td>0.4</td>\n",
              "    </tr>\n",
              "    <tr>\n",
              "      <th>180</th>\n",
              "      <td>Syria</td>\n",
              "      <td>0.3</td>\n",
              "      <td>0.2</td>\n",
              "      <td>0.1</td>\n",
              "      <td>11.6</td>\n",
              "      <td>1.1</td>\n",
              "      <td>87.2</td>\n",
              "      <td>0.0</td>\n",
              "      <td>0.3</td>\n",
              "      <td>0.3</td>\n",
              "    </tr>\n",
              "    <tr>\n",
              "      <th>183</th>\n",
              "      <td>Yemen</td>\n",
              "      <td>0.1</td>\n",
              "      <td>0.0</td>\n",
              "      <td>0.0</td>\n",
              "      <td>89.5</td>\n",
              "      <td>0.0</td>\n",
              "      <td>10.5</td>\n",
              "      <td>0.0</td>\n",
              "      <td>0.1</td>\n",
              "      <td>0.1</td>\n",
              "    </tr>\n",
              "  </tbody>\n",
              "</table>\n",
              "<p>179 rows × 10 columns</p>\n",
              "</div>"
            ],
            "text/plain": [
              "            country  total_consumption  recorded_consumption  \\\n",
              "0           Estonia               16.9                  15.8   \n",
              "1         Lithuania               15.0                  13.8   \n",
              "2    Czech Republic               14.3                  12.4   \n",
              "3        Seychelles               13.8                  12.4   \n",
              "4           Germany               13.4                  11.3   \n",
              "..              ...                ...                   ...   \n",
              "176           Egypt                0.4                   0.2   \n",
              "177            Iraq                0.4                   0.2   \n",
              "178        Kiribati                0.4                   0.4   \n",
              "180           Syria                0.3                   0.2   \n",
              "183           Yemen                0.1                   0.0   \n",
              "\n",
              "     unrecorded_consumption  beer_percentage  wine_percentage  \\\n",
              "0                       1.1             32.7              7.4   \n",
              "1                       1.2             43.6              7.3   \n",
              "2                       1.4             53.3             21.3   \n",
              "3                       1.4             68.9             22.4   \n",
              "4                       1.4             52.6             28.4   \n",
              "..                      ...              ...              ...   \n",
              "176                     0.2             62.0              4.4   \n",
              "177                     0.2             71.0              2.4   \n",
              "178                     0.2            100.0              0.0   \n",
              "180                     0.1             11.6              1.1   \n",
              "183                     0.0             89.5              0.0   \n",
              "\n",
              "     spirits_percentage  other_percentage  2020_projection  2025_projection  \n",
              "0                  50.3               9.6             11.5             11.9  \n",
              "1                  37.1              12.1             14.4             13.9  \n",
              "2                  25.4               0.0             11.2             11.4  \n",
              "3                   6.3               2.5             10.4             10.6  \n",
              "4                  18.9               0.0             12.8             12.6  \n",
              "..                  ...               ...              ...              ...  \n",
              "176                33.1               0.6              0.4              0.5  \n",
              "177                25.7               0.9              0.5              0.6  \n",
              "178                 0.0               0.0              0.4              0.4  \n",
              "180                87.2               0.0              0.3              0.3  \n",
              "183                10.5               0.0              0.1              0.1  \n",
              "\n",
              "[179 rows x 10 columns]"
            ]
          },
          "execution_count": 8,
          "metadata": {},
          "output_type": "execute_result"
        }
      ],
      "source": [
        "Alcohol_Raw_df.drop_duplicates(inplace = True)\n",
        "Alcohol_df= Alcohol_Raw_df.dropna() #Dropping Values because Mean, Median or Mode cannot be used due to different cultural factors\n",
        "Alcohol_df"
      ]
    },
    {
      "cell_type": "code",
      "execution_count": null,
      "metadata": {
        "id": "eu91R0gSUDjr",
        "outputId": "15b0582a-b773-472d-e39e-2ca329bd582e"
      },
      "outputs": [
        {
          "data": {
            "text/html": [
              "<div>\n",
              "<style scoped>\n",
              "    .dataframe tbody tr th:only-of-type {\n",
              "        vertical-align: middle;\n",
              "    }\n",
              "\n",
              "    .dataframe tbody tr th {\n",
              "        vertical-align: top;\n",
              "    }\n",
              "\n",
              "    .dataframe thead th {\n",
              "        text-align: right;\n",
              "    }\n",
              "</style>\n",
              "<table border=\"1\" class=\"dataframe\">\n",
              "  <thead>\n",
              "    <tr style=\"text-align: right;\">\n",
              "      <th></th>\n",
              "      <th>total_consumption</th>\n",
              "      <th>recorded_consumption</th>\n",
              "      <th>unrecorded_consumption</th>\n",
              "      <th>beer_percentage</th>\n",
              "      <th>wine_percentage</th>\n",
              "      <th>spirits_percentage</th>\n",
              "      <th>other_percentage</th>\n",
              "      <th>2020_projection</th>\n",
              "      <th>2025_projection</th>\n",
              "    </tr>\n",
              "  </thead>\n",
              "  <tbody>\n",
              "    <tr>\n",
              "      <th>count</th>\n",
              "      <td>179.000000</td>\n",
              "      <td>179.000000</td>\n",
              "      <td>179.000000</td>\n",
              "      <td>179.000000</td>\n",
              "      <td>179.000000</td>\n",
              "      <td>179.000000</td>\n",
              "      <td>179.000000</td>\n",
              "      <td>179.000000</td>\n",
              "      <td>179.000000</td>\n",
              "    </tr>\n",
              "    <tr>\n",
              "      <th>mean</th>\n",
              "      <td>6.516760</td>\n",
              "      <td>5.197765</td>\n",
              "      <td>1.444693</td>\n",
              "      <td>43.484358</td>\n",
              "      <td>16.306704</td>\n",
              "      <td>29.394413</td>\n",
              "      <td>10.807821</td>\n",
              "      <td>6.592737</td>\n",
              "      <td>6.802235</td>\n",
              "    </tr>\n",
              "    <tr>\n",
              "      <th>std</th>\n",
              "      <td>3.981989</td>\n",
              "      <td>3.689995</td>\n",
              "      <td>0.868495</td>\n",
              "      <td>22.147305</td>\n",
              "      <td>18.123067</td>\n",
              "      <td>24.027063</td>\n",
              "      <td>23.013580</td>\n",
              "      <td>3.945343</td>\n",
              "      <td>4.013292</td>\n",
              "    </tr>\n",
              "    <tr>\n",
              "      <th>min</th>\n",
              "      <td>0.100000</td>\n",
              "      <td>0.000000</td>\n",
              "      <td>0.000000</td>\n",
              "      <td>0.600000</td>\n",
              "      <td>0.000000</td>\n",
              "      <td>0.000000</td>\n",
              "      <td>0.000000</td>\n",
              "      <td>0.000000</td>\n",
              "      <td>0.100000</td>\n",
              "    </tr>\n",
              "    <tr>\n",
              "      <th>25%</th>\n",
              "      <td>2.900000</td>\n",
              "      <td>1.650000</td>\n",
              "      <td>0.900000</td>\n",
              "      <td>28.300000</td>\n",
              "      <td>2.150000</td>\n",
              "      <td>10.850000</td>\n",
              "      <td>0.000000</td>\n",
              "      <td>3.150000</td>\n",
              "      <td>3.250000</td>\n",
              "    </tr>\n",
              "    <tr>\n",
              "      <th>50%</th>\n",
              "      <td>6.600000</td>\n",
              "      <td>4.900000</td>\n",
              "      <td>1.400000</td>\n",
              "      <td>39.900000</td>\n",
              "      <td>8.500000</td>\n",
              "      <td>25.400000</td>\n",
              "      <td>0.700000</td>\n",
              "      <td>7.000000</td>\n",
              "      <td>7.000000</td>\n",
              "    </tr>\n",
              "    <tr>\n",
              "      <th>75%</th>\n",
              "      <td>9.700000</td>\n",
              "      <td>8.250000</td>\n",
              "      <td>1.800000</td>\n",
              "      <td>56.900000</td>\n",
              "      <td>27.950000</td>\n",
              "      <td>43.750000</td>\n",
              "      <td>4.650000</td>\n",
              "      <td>9.850000</td>\n",
              "      <td>10.300000</td>\n",
              "    </tr>\n",
              "    <tr>\n",
              "      <th>max</th>\n",
              "      <td>16.900000</td>\n",
              "      <td>15.800000</td>\n",
              "      <td>5.300000</td>\n",
              "      <td>100.000000</td>\n",
              "      <td>84.700000</td>\n",
              "      <td>97.300000</td>\n",
              "      <td>94.900000</td>\n",
              "      <td>16.200000</td>\n",
              "      <td>18.300000</td>\n",
              "    </tr>\n",
              "  </tbody>\n",
              "</table>\n",
              "</div>"
            ],
            "text/plain": [
              "       total_consumption  recorded_consumption  unrecorded_consumption  \\\n",
              "count         179.000000            179.000000              179.000000   \n",
              "mean            6.516760              5.197765                1.444693   \n",
              "std             3.981989              3.689995                0.868495   \n",
              "min             0.100000              0.000000                0.000000   \n",
              "25%             2.900000              1.650000                0.900000   \n",
              "50%             6.600000              4.900000                1.400000   \n",
              "75%             9.700000              8.250000                1.800000   \n",
              "max            16.900000             15.800000                5.300000   \n",
              "\n",
              "       beer_percentage  wine_percentage  spirits_percentage  other_percentage  \\\n",
              "count       179.000000       179.000000          179.000000        179.000000   \n",
              "mean         43.484358        16.306704           29.394413         10.807821   \n",
              "std          22.147305        18.123067           24.027063         23.013580   \n",
              "min           0.600000         0.000000            0.000000          0.000000   \n",
              "25%          28.300000         2.150000           10.850000          0.000000   \n",
              "50%          39.900000         8.500000           25.400000          0.700000   \n",
              "75%          56.900000        27.950000           43.750000          4.650000   \n",
              "max         100.000000        84.700000           97.300000         94.900000   \n",
              "\n",
              "       2020_projection  2025_projection  \n",
              "count       179.000000       179.000000  \n",
              "mean          6.592737         6.802235  \n",
              "std           3.945343         4.013292  \n",
              "min           0.000000         0.100000  \n",
              "25%           3.150000         3.250000  \n",
              "50%           7.000000         7.000000  \n",
              "75%           9.850000        10.300000  \n",
              "max          16.200000        18.300000  "
            ]
          },
          "execution_count": 9,
          "metadata": {},
          "output_type": "execute_result"
        }
      ],
      "source": [
        "Alcohol_df.describe()"
      ]
    },
    {
      "cell_type": "code",
      "execution_count": null,
      "metadata": {
        "id": "vGMLBYP2UDjr",
        "outputId": "fa0a1e3a-fb71-4679-d110-3afae6b558e4"
      },
      "outputs": [
        {
          "data": {
            "text/html": [
              "<div>\n",
              "<style scoped>\n",
              "    .dataframe tbody tr th:only-of-type {\n",
              "        vertical-align: middle;\n",
              "    }\n",
              "\n",
              "    .dataframe tbody tr th {\n",
              "        vertical-align: top;\n",
              "    }\n",
              "\n",
              "    .dataframe thead th {\n",
              "        text-align: right;\n",
              "    }\n",
              "</style>\n",
              "<table border=\"1\" class=\"dataframe\">\n",
              "  <thead>\n",
              "    <tr style=\"text-align: right;\">\n",
              "      <th></th>\n",
              "      <th>country</th>\n",
              "      <th>total_consumption</th>\n",
              "    </tr>\n",
              "  </thead>\n",
              "  <tbody>\n",
              "    <tr>\n",
              "      <th>0</th>\n",
              "      <td>Estonia</td>\n",
              "      <td>16.9</td>\n",
              "    </tr>\n",
              "    <tr>\n",
              "      <th>1</th>\n",
              "      <td>Lithuania</td>\n",
              "      <td>15.0</td>\n",
              "    </tr>\n",
              "    <tr>\n",
              "      <th>2</th>\n",
              "      <td>Czech Republic</td>\n",
              "      <td>14.3</td>\n",
              "    </tr>\n",
              "    <tr>\n",
              "      <th>3</th>\n",
              "      <td>Seychelles</td>\n",
              "      <td>13.8</td>\n",
              "    </tr>\n",
              "    <tr>\n",
              "      <th>4</th>\n",
              "      <td>Germany</td>\n",
              "      <td>13.4</td>\n",
              "    </tr>\n",
              "    <tr>\n",
              "      <th>...</th>\n",
              "      <td>...</td>\n",
              "      <td>...</td>\n",
              "    </tr>\n",
              "    <tr>\n",
              "      <th>176</th>\n",
              "      <td>Egypt</td>\n",
              "      <td>0.4</td>\n",
              "    </tr>\n",
              "    <tr>\n",
              "      <th>177</th>\n",
              "      <td>Iraq</td>\n",
              "      <td>0.4</td>\n",
              "    </tr>\n",
              "    <tr>\n",
              "      <th>178</th>\n",
              "      <td>Kiribati</td>\n",
              "      <td>0.4</td>\n",
              "    </tr>\n",
              "    <tr>\n",
              "      <th>180</th>\n",
              "      <td>Syria</td>\n",
              "      <td>0.3</td>\n",
              "    </tr>\n",
              "    <tr>\n",
              "      <th>183</th>\n",
              "      <td>Yemen</td>\n",
              "      <td>0.1</td>\n",
              "    </tr>\n",
              "  </tbody>\n",
              "</table>\n",
              "<p>179 rows × 2 columns</p>\n",
              "</div>"
            ],
            "text/plain": [
              "            country  total_consumption\n",
              "0           Estonia               16.9\n",
              "1         Lithuania               15.0\n",
              "2    Czech Republic               14.3\n",
              "3        Seychelles               13.8\n",
              "4           Germany               13.4\n",
              "..              ...                ...\n",
              "176           Egypt                0.4\n",
              "177            Iraq                0.4\n",
              "178        Kiribati                0.4\n",
              "180           Syria                0.3\n",
              "183           Yemen                0.1\n",
              "\n",
              "[179 rows x 2 columns]"
            ]
          },
          "execution_count": 10,
          "metadata": {},
          "output_type": "execute_result"
        }
      ],
      "source": [
        "total_consumption_df = Alcohol_df[['country', 'total_consumption']]\n",
        "total_consumption_df "
      ]
    },
    {
      "cell_type": "code",
      "execution_count": null,
      "metadata": {
        "id": "ij91JKpPUDjs",
        "outputId": "8ece10eb-23ed-4c0f-beb3-dd15d963caf9"
      },
      "outputs": [
        {
          "data": {
            "text/html": [
              "<div>\n",
              "<style scoped>\n",
              "    .dataframe tbody tr th:only-of-type {\n",
              "        vertical-align: middle;\n",
              "    }\n",
              "\n",
              "    .dataframe tbody tr th {\n",
              "        vertical-align: top;\n",
              "    }\n",
              "\n",
              "    .dataframe thead th {\n",
              "        text-align: right;\n",
              "    }\n",
              "</style>\n",
              "<table border=\"1\" class=\"dataframe\">\n",
              "  <thead>\n",
              "    <tr style=\"text-align: right;\">\n",
              "      <th></th>\n",
              "      <th>country</th>\n",
              "      <th>total_consumption</th>\n",
              "    </tr>\n",
              "  </thead>\n",
              "  <tbody>\n",
              "    <tr>\n",
              "      <th>183</th>\n",
              "      <td>Yemen</td>\n",
              "      <td>0.1</td>\n",
              "    </tr>\n",
              "    <tr>\n",
              "      <th>180</th>\n",
              "      <td>Syria</td>\n",
              "      <td>0.3</td>\n",
              "    </tr>\n",
              "    <tr>\n",
              "      <th>177</th>\n",
              "      <td>Iraq</td>\n",
              "      <td>0.4</td>\n",
              "    </tr>\n",
              "    <tr>\n",
              "      <th>175</th>\n",
              "      <td>Brunei</td>\n",
              "      <td>0.4</td>\n",
              "    </tr>\n",
              "    <tr>\n",
              "      <th>178</th>\n",
              "      <td>Kiribati</td>\n",
              "      <td>0.4</td>\n",
              "    </tr>\n",
              "    <tr>\n",
              "      <th>...</th>\n",
              "      <td>...</td>\n",
              "      <td>...</td>\n",
              "    </tr>\n",
              "    <tr>\n",
              "      <th>4</th>\n",
              "      <td>Germany</td>\n",
              "      <td>13.4</td>\n",
              "    </tr>\n",
              "    <tr>\n",
              "      <th>3</th>\n",
              "      <td>Seychelles</td>\n",
              "      <td>13.8</td>\n",
              "    </tr>\n",
              "    <tr>\n",
              "      <th>2</th>\n",
              "      <td>Czech Republic</td>\n",
              "      <td>14.3</td>\n",
              "    </tr>\n",
              "    <tr>\n",
              "      <th>1</th>\n",
              "      <td>Lithuania</td>\n",
              "      <td>15.0</td>\n",
              "    </tr>\n",
              "    <tr>\n",
              "      <th>0</th>\n",
              "      <td>Estonia</td>\n",
              "      <td>16.9</td>\n",
              "    </tr>\n",
              "  </tbody>\n",
              "</table>\n",
              "<p>179 rows × 2 columns</p>\n",
              "</div>"
            ],
            "text/plain": [
              "            country  total_consumption\n",
              "183           Yemen                0.1\n",
              "180           Syria                0.3\n",
              "177            Iraq                0.4\n",
              "175          Brunei                0.4\n",
              "178        Kiribati                0.4\n",
              "..              ...                ...\n",
              "4           Germany               13.4\n",
              "3        Seychelles               13.8\n",
              "2    Czech Republic               14.3\n",
              "1         Lithuania               15.0\n",
              "0           Estonia               16.9\n",
              "\n",
              "[179 rows x 2 columns]"
            ]
          },
          "execution_count": 11,
          "metadata": {},
          "output_type": "execute_result"
        }
      ],
      "source": [
        "Sorted_consumption_df = total_consumption_df.sort_values(by = \"total_consumption\")\n",
        "Sorted_consumption_df"
      ]
    },
    {
      "cell_type": "code",
      "execution_count": null,
      "metadata": {
        "id": "ZZcvzqV0UDjt",
        "outputId": "3b4274b2-06ae-498a-f6d8-0956740977c5"
      },
      "outputs": [
        {
          "name": "stderr",
          "output_type": "stream",
          "text": [
            "/tmp/ipykernel_499/722011737.py:4: SettingWithCopyWarning: \n",
            "A value is trying to be set on a copy of a slice from a DataFrame.\n",
            "Try using .loc[row_indexer,col_indexer] = value instead\n",
            "\n",
            "See the caveats in the documentation: https://pandas.pydata.org/pandas-docs/stable/user_guide/indexing.html#returning-a-view-versus-a-copy\n",
            "  Alcohol_df['spirits_consumption'] = list(Spirits_consumption)\n"
          ]
        }
      ],
      "source": [
        "Spirits_consumption = []\n",
        "for values in Alcohol_df['spirits_percentage']:\n",
        "    Spirits_consumption = ((Alcohol_df['total_consumption']*Alcohol_df['spirits_percentage'])/100)\n",
        "Alcohol_df['spirits_consumption'] = list(Spirits_consumption)"
      ]
    },
    {
      "cell_type": "code",
      "execution_count": null,
      "metadata": {
        "id": "FUreNV7TUDju",
        "outputId": "f2a06dfd-4d37-4be6-9e33-0b48928c1e39"
      },
      "outputs": [
        {
          "name": "stderr",
          "output_type": "stream",
          "text": [
            "/tmp/ipykernel_499/2274487578.py:4: SettingWithCopyWarning: \n",
            "A value is trying to be set on a copy of a slice from a DataFrame.\n",
            "Try using .loc[row_indexer,col_indexer] = value instead\n",
            "\n",
            "See the caveats in the documentation: https://pandas.pydata.org/pandas-docs/stable/user_guide/indexing.html#returning-a-view-versus-a-copy\n",
            "  Alcohol_df['beer_consumption'] = list(Beer_consumption)\n"
          ]
        }
      ],
      "source": [
        "Beer_consumption = []\n",
        "for values in Alcohol_df['beer_percentage']:\n",
        "    Beer_consumption = ((Alcohol_df['total_consumption']*Alcohol_df['beer_percentage'])/100)\n",
        "Alcohol_df['beer_consumption'] = list(Beer_consumption)\n"
      ]
    },
    {
      "cell_type": "code",
      "execution_count": null,
      "metadata": {
        "id": "P509vTdiUDjv",
        "outputId": "840660c2-d4c7-4534-a90d-cfc7cd06cd23"
      },
      "outputs": [
        {
          "name": "stderr",
          "output_type": "stream",
          "text": [
            "/tmp/ipykernel_499/1205324259.py:5: SettingWithCopyWarning: \n",
            "A value is trying to be set on a copy of a slice from a DataFrame.\n",
            "Try using .loc[row_indexer,col_indexer] = value instead\n",
            "\n",
            "See the caveats in the documentation: https://pandas.pydata.org/pandas-docs/stable/user_guide/indexing.html#returning-a-view-versus-a-copy\n",
            "  Alcohol_df['wine_consumption'] = list(Wine_consumption)\n"
          ]
        }
      ],
      "source": [
        "Wine_consumption = []\n",
        "for values in Alcohol_df['wine_percentage']:\n",
        "    Wine_consumption = ((Alcohol_df['total_consumption']*Alcohol_df['wine_percentage'])/100)\n",
        "                        \n",
        "Alcohol_df['wine_consumption'] = list(Wine_consumption) \n"
      ]
    },
    {
      "cell_type": "code",
      "execution_count": null,
      "metadata": {
        "id": "zzouUx2jUDjw",
        "outputId": "07383131-d6f4-4528-9e9c-5fad532276d8"
      },
      "outputs": [
        {
          "name": "stderr",
          "output_type": "stream",
          "text": [
            "/tmp/ipykernel_499/26083591.py:5: SettingWithCopyWarning: \n",
            "A value is trying to be set on a copy of a slice from a DataFrame.\n",
            "Try using .loc[row_indexer,col_indexer] = value instead\n",
            "\n",
            "See the caveats in the documentation: https://pandas.pydata.org/pandas-docs/stable/user_guide/indexing.html#returning-a-view-versus-a-copy\n",
            "  Alcohol_df['other_consumption'] = list(Other_consumption)\n"
          ]
        }
      ],
      "source": [
        "Other_consumption = []\n",
        "for values in Alcohol_df['other_percentage']:\n",
        "    Other_consumption = ((Alcohol_df['total_consumption']*Alcohol_df['other_percentage'])/100)\n",
        "                        \n",
        "Alcohol_df['other_consumption'] = list(Other_consumption) \n"
      ]
    },
    {
      "cell_type": "code",
      "execution_count": null,
      "metadata": {
        "id": "oNqGtPKHUDjx",
        "outputId": "a800b028-5b7a-42ec-8d15-a9b1b00c8ae0"
      },
      "outputs": [
        {
          "name": "stderr",
          "output_type": "stream",
          "text": [
            "/tmp/ipykernel_499/260319537.py:5: SettingWithCopyWarning: \n",
            "A value is trying to be set on a copy of a slice from a DataFrame.\n",
            "Try using .loc[row_indexer,col_indexer] = value instead\n",
            "\n",
            "See the caveats in the documentation: https://pandas.pydata.org/pandas-docs/stable/user_guide/indexing.html#returning-a-view-versus-a-copy\n",
            "  Alcohol_df['beverage_consumption'] = list(Beverage_consumption)\n"
          ]
        },
        {
          "data": {
            "text/html": [
              "<div>\n",
              "<style scoped>\n",
              "    .dataframe tbody tr th:only-of-type {\n",
              "        vertical-align: middle;\n",
              "    }\n",
              "\n",
              "    .dataframe tbody tr th {\n",
              "        vertical-align: top;\n",
              "    }\n",
              "\n",
              "    .dataframe thead th {\n",
              "        text-align: right;\n",
              "    }\n",
              "</style>\n",
              "<table border=\"1\" class=\"dataframe\">\n",
              "  <thead>\n",
              "    <tr style=\"text-align: right;\">\n",
              "      <th></th>\n",
              "      <th>country</th>\n",
              "      <th>total_consumption</th>\n",
              "      <th>recorded_consumption</th>\n",
              "      <th>unrecorded_consumption</th>\n",
              "      <th>beer_percentage</th>\n",
              "      <th>wine_percentage</th>\n",
              "      <th>spirits_percentage</th>\n",
              "      <th>other_percentage</th>\n",
              "      <th>2020_projection</th>\n",
              "      <th>2025_projection</th>\n",
              "      <th>spirits_consumption</th>\n",
              "      <th>beer_consumption</th>\n",
              "      <th>wine_consumption</th>\n",
              "      <th>other_consumption</th>\n",
              "      <th>beverage_consumption</th>\n",
              "    </tr>\n",
              "  </thead>\n",
              "  <tbody>\n",
              "    <tr>\n",
              "      <th>0</th>\n",
              "      <td>Estonia</td>\n",
              "      <td>16.9</td>\n",
              "      <td>15.8</td>\n",
              "      <td>1.1</td>\n",
              "      <td>32.7</td>\n",
              "      <td>7.4</td>\n",
              "      <td>50.3</td>\n",
              "      <td>9.6</td>\n",
              "      <td>11.5</td>\n",
              "      <td>11.9</td>\n",
              "      <td>8.5007</td>\n",
              "      <td>5.5263</td>\n",
              "      <td>1.2506</td>\n",
              "      <td>1.6224</td>\n",
              "      <td>6.7769</td>\n",
              "    </tr>\n",
              "    <tr>\n",
              "      <th>1</th>\n",
              "      <td>Lithuania</td>\n",
              "      <td>15.0</td>\n",
              "      <td>13.8</td>\n",
              "      <td>1.2</td>\n",
              "      <td>43.6</td>\n",
              "      <td>7.3</td>\n",
              "      <td>37.1</td>\n",
              "      <td>12.1</td>\n",
              "      <td>14.4</td>\n",
              "      <td>13.9</td>\n",
              "      <td>5.5650</td>\n",
              "      <td>6.5400</td>\n",
              "      <td>1.0950</td>\n",
              "      <td>1.8150</td>\n",
              "      <td>7.6350</td>\n",
              "    </tr>\n",
              "    <tr>\n",
              "      <th>2</th>\n",
              "      <td>Czech Republic</td>\n",
              "      <td>14.3</td>\n",
              "      <td>12.4</td>\n",
              "      <td>1.4</td>\n",
              "      <td>53.3</td>\n",
              "      <td>21.3</td>\n",
              "      <td>25.4</td>\n",
              "      <td>0.0</td>\n",
              "      <td>11.2</td>\n",
              "      <td>11.4</td>\n",
              "      <td>3.6322</td>\n",
              "      <td>7.6219</td>\n",
              "      <td>3.0459</td>\n",
              "      <td>0.0000</td>\n",
              "      <td>10.6678</td>\n",
              "    </tr>\n",
              "    <tr>\n",
              "      <th>3</th>\n",
              "      <td>Seychelles</td>\n",
              "      <td>13.8</td>\n",
              "      <td>12.4</td>\n",
              "      <td>1.4</td>\n",
              "      <td>68.9</td>\n",
              "      <td>22.4</td>\n",
              "      <td>6.3</td>\n",
              "      <td>2.5</td>\n",
              "      <td>10.4</td>\n",
              "      <td>10.6</td>\n",
              "      <td>0.8694</td>\n",
              "      <td>9.5082</td>\n",
              "      <td>3.0912</td>\n",
              "      <td>0.3450</td>\n",
              "      <td>12.5994</td>\n",
              "    </tr>\n",
              "    <tr>\n",
              "      <th>4</th>\n",
              "      <td>Germany</td>\n",
              "      <td>13.4</td>\n",
              "      <td>11.3</td>\n",
              "      <td>1.4</td>\n",
              "      <td>52.6</td>\n",
              "      <td>28.4</td>\n",
              "      <td>18.9</td>\n",
              "      <td>0.0</td>\n",
              "      <td>12.8</td>\n",
              "      <td>12.6</td>\n",
              "      <td>2.5326</td>\n",
              "      <td>7.0484</td>\n",
              "      <td>3.8056</td>\n",
              "      <td>0.0000</td>\n",
              "      <td>10.8540</td>\n",
              "    </tr>\n",
              "    <tr>\n",
              "      <th>...</th>\n",
              "      <td>...</td>\n",
              "      <td>...</td>\n",
              "      <td>...</td>\n",
              "      <td>...</td>\n",
              "      <td>...</td>\n",
              "      <td>...</td>\n",
              "      <td>...</td>\n",
              "      <td>...</td>\n",
              "      <td>...</td>\n",
              "      <td>...</td>\n",
              "      <td>...</td>\n",
              "      <td>...</td>\n",
              "      <td>...</td>\n",
              "      <td>...</td>\n",
              "      <td>...</td>\n",
              "    </tr>\n",
              "    <tr>\n",
              "      <th>176</th>\n",
              "      <td>Egypt</td>\n",
              "      <td>0.4</td>\n",
              "      <td>0.2</td>\n",
              "      <td>0.2</td>\n",
              "      <td>62.0</td>\n",
              "      <td>4.4</td>\n",
              "      <td>33.1</td>\n",
              "      <td>0.6</td>\n",
              "      <td>0.4</td>\n",
              "      <td>0.5</td>\n",
              "      <td>0.1324</td>\n",
              "      <td>0.2480</td>\n",
              "      <td>0.0176</td>\n",
              "      <td>0.0024</td>\n",
              "      <td>0.2656</td>\n",
              "    </tr>\n",
              "    <tr>\n",
              "      <th>177</th>\n",
              "      <td>Iraq</td>\n",
              "      <td>0.4</td>\n",
              "      <td>0.2</td>\n",
              "      <td>0.2</td>\n",
              "      <td>71.0</td>\n",
              "      <td>2.4</td>\n",
              "      <td>25.7</td>\n",
              "      <td>0.9</td>\n",
              "      <td>0.5</td>\n",
              "      <td>0.6</td>\n",
              "      <td>0.1028</td>\n",
              "      <td>0.2840</td>\n",
              "      <td>0.0096</td>\n",
              "      <td>0.0036</td>\n",
              "      <td>0.2936</td>\n",
              "    </tr>\n",
              "    <tr>\n",
              "      <th>178</th>\n",
              "      <td>Kiribati</td>\n",
              "      <td>0.4</td>\n",
              "      <td>0.4</td>\n",
              "      <td>0.2</td>\n",
              "      <td>100.0</td>\n",
              "      <td>0.0</td>\n",
              "      <td>0.0</td>\n",
              "      <td>0.0</td>\n",
              "      <td>0.4</td>\n",
              "      <td>0.4</td>\n",
              "      <td>0.0000</td>\n",
              "      <td>0.4000</td>\n",
              "      <td>0.0000</td>\n",
              "      <td>0.0000</td>\n",
              "      <td>0.4000</td>\n",
              "    </tr>\n",
              "    <tr>\n",
              "      <th>180</th>\n",
              "      <td>Syria</td>\n",
              "      <td>0.3</td>\n",
              "      <td>0.2</td>\n",
              "      <td>0.1</td>\n",
              "      <td>11.6</td>\n",
              "      <td>1.1</td>\n",
              "      <td>87.2</td>\n",
              "      <td>0.0</td>\n",
              "      <td>0.3</td>\n",
              "      <td>0.3</td>\n",
              "      <td>0.2616</td>\n",
              "      <td>0.0348</td>\n",
              "      <td>0.0033</td>\n",
              "      <td>0.0000</td>\n",
              "      <td>0.0381</td>\n",
              "    </tr>\n",
              "    <tr>\n",
              "      <th>183</th>\n",
              "      <td>Yemen</td>\n",
              "      <td>0.1</td>\n",
              "      <td>0.0</td>\n",
              "      <td>0.0</td>\n",
              "      <td>89.5</td>\n",
              "      <td>0.0</td>\n",
              "      <td>10.5</td>\n",
              "      <td>0.0</td>\n",
              "      <td>0.1</td>\n",
              "      <td>0.1</td>\n",
              "      <td>0.0105</td>\n",
              "      <td>0.0895</td>\n",
              "      <td>0.0000</td>\n",
              "      <td>0.0000</td>\n",
              "      <td>0.0895</td>\n",
              "    </tr>\n",
              "  </tbody>\n",
              "</table>\n",
              "<p>179 rows × 15 columns</p>\n",
              "</div>"
            ],
            "text/plain": [
              "            country  total_consumption  recorded_consumption  \\\n",
              "0           Estonia               16.9                  15.8   \n",
              "1         Lithuania               15.0                  13.8   \n",
              "2    Czech Republic               14.3                  12.4   \n",
              "3        Seychelles               13.8                  12.4   \n",
              "4           Germany               13.4                  11.3   \n",
              "..              ...                ...                   ...   \n",
              "176           Egypt                0.4                   0.2   \n",
              "177            Iraq                0.4                   0.2   \n",
              "178        Kiribati                0.4                   0.4   \n",
              "180           Syria                0.3                   0.2   \n",
              "183           Yemen                0.1                   0.0   \n",
              "\n",
              "     unrecorded_consumption  beer_percentage  wine_percentage  \\\n",
              "0                       1.1             32.7              7.4   \n",
              "1                       1.2             43.6              7.3   \n",
              "2                       1.4             53.3             21.3   \n",
              "3                       1.4             68.9             22.4   \n",
              "4                       1.4             52.6             28.4   \n",
              "..                      ...              ...              ...   \n",
              "176                     0.2             62.0              4.4   \n",
              "177                     0.2             71.0              2.4   \n",
              "178                     0.2            100.0              0.0   \n",
              "180                     0.1             11.6              1.1   \n",
              "183                     0.0             89.5              0.0   \n",
              "\n",
              "     spirits_percentage  other_percentage  2020_projection  2025_projection  \\\n",
              "0                  50.3               9.6             11.5             11.9   \n",
              "1                  37.1              12.1             14.4             13.9   \n",
              "2                  25.4               0.0             11.2             11.4   \n",
              "3                   6.3               2.5             10.4             10.6   \n",
              "4                  18.9               0.0             12.8             12.6   \n",
              "..                  ...               ...              ...              ...   \n",
              "176                33.1               0.6              0.4              0.5   \n",
              "177                25.7               0.9              0.5              0.6   \n",
              "178                 0.0               0.0              0.4              0.4   \n",
              "180                87.2               0.0              0.3              0.3   \n",
              "183                10.5               0.0              0.1              0.1   \n",
              "\n",
              "     spirits_consumption  beer_consumption  wine_consumption  \\\n",
              "0                 8.5007            5.5263            1.2506   \n",
              "1                 5.5650            6.5400            1.0950   \n",
              "2                 3.6322            7.6219            3.0459   \n",
              "3                 0.8694            9.5082            3.0912   \n",
              "4                 2.5326            7.0484            3.8056   \n",
              "..                   ...               ...               ...   \n",
              "176               0.1324            0.2480            0.0176   \n",
              "177               0.1028            0.2840            0.0096   \n",
              "178               0.0000            0.4000            0.0000   \n",
              "180               0.2616            0.0348            0.0033   \n",
              "183               0.0105            0.0895            0.0000   \n",
              "\n",
              "     other_consumption  beverage_consumption  \n",
              "0               1.6224                6.7769  \n",
              "1               1.8150                7.6350  \n",
              "2               0.0000               10.6678  \n",
              "3               0.3450               12.5994  \n",
              "4               0.0000               10.8540  \n",
              "..                 ...                   ...  \n",
              "176             0.0024                0.2656  \n",
              "177             0.0036                0.2936  \n",
              "178             0.0000                0.4000  \n",
              "180             0.0000                0.0381  \n",
              "183             0.0000                0.0895  \n",
              "\n",
              "[179 rows x 15 columns]"
            ]
          },
          "execution_count": 16,
          "metadata": {},
          "output_type": "execute_result"
        }
      ],
      "source": [
        "Beverage_consumption = []\n",
        "for index in Alcohol_df.index:\n",
        "    Beverage_consumption = (Alcohol_df['beer_consumption']+Alcohol_df['wine_consumption'])\n",
        "                        \n",
        "Alcohol_df['beverage_consumption'] = list(Beverage_consumption) \n",
        "Alcohol_df"
      ]
    },
    {
      "cell_type": "markdown",
      "metadata": {
        "id": "3npY0jzMUDjz"
      },
      "source": [
        "## Exploratory Analysis and Visualization\n",
        "\n",
        "In this segment, data is presented in terms of various graphs using the Matplotlib Library. Furthermore, Numpy is used to ascertain parameters of the data to further analyse it \n",
        "\n"
      ]
    },
    {
      "cell_type": "code",
      "execution_count": null,
      "metadata": {
        "id": "COaBe70RUDjz",
        "outputId": "6ca9284a-9588-4062-e7d8-313cdd21504a"
      },
      "outputs": [
        {
          "data": {
            "text/plain": [
              "count    179.000000\n",
              "mean       6.516760\n",
              "std        3.981989\n",
              "min        0.100000\n",
              "25%        2.900000\n",
              "50%        6.600000\n",
              "75%        9.700000\n",
              "max       16.900000\n",
              "Name: total_consumption, dtype: float64"
            ]
          },
          "execution_count": 19,
          "metadata": {},
          "output_type": "execute_result"
        }
      ],
      "source": [
        "import numpy as np\n",
        "Alcohol_df['total_consumption'].describe()"
      ]
    },
    {
      "cell_type": "markdown",
      "metadata": {
        "id": "FuRb8XjKUDj0"
      },
      "source": [
        "Let's begin by importing`matplotlib.pyplot` and `seaborn`.\n"
      ]
    },
    {
      "cell_type": "code",
      "execution_count": null,
      "metadata": {
        "id": "wfATyN-oUDj0"
      },
      "outputs": [],
      "source": [
        "import seaborn as sns\n",
        "import matplotlib\n",
        "import matplotlib.pyplot as plt\n",
        "%matplotlib inline\n",
        "\n",
        "sns.set_style('darkgrid')\n",
        "matplotlib.rcParams['font.size'] = 12\n",
        "matplotlib.rcParams['figure.figsize'] = (14, 8)\n",
        "matplotlib.rcParams['figure.facecolor'] = '#00000012'"
      ]
    },
    {
      "cell_type": "markdown",
      "metadata": {
        "id": "Rh7fyMZcUDj0"
      },
      "source": [
        "We look at the total alcohol consumption of 10 countries with highest consumption\n"
      ]
    },
    {
      "cell_type": "code",
      "execution_count": null,
      "metadata": {
        "id": "49uaNL6BUDj1",
        "outputId": "a8033078-2bfc-4d60-befa-8d588594d862"
      },
      "outputs": [
        {
          "data": {
            "text/html": [
              "<div>\n",
              "<style scoped>\n",
              "    .dataframe tbody tr th:only-of-type {\n",
              "        vertical-align: middle;\n",
              "    }\n",
              "\n",
              "    .dataframe tbody tr th {\n",
              "        vertical-align: top;\n",
              "    }\n",
              "\n",
              "    .dataframe thead th {\n",
              "        text-align: right;\n",
              "    }\n",
              "</style>\n",
              "<table border=\"1\" class=\"dataframe\">\n",
              "  <thead>\n",
              "    <tr style=\"text-align: right;\">\n",
              "      <th></th>\n",
              "      <th>country</th>\n",
              "      <th>total_consumption</th>\n",
              "    </tr>\n",
              "  </thead>\n",
              "  <tbody>\n",
              "    <tr>\n",
              "      <th>9</th>\n",
              "      <td>Bulgaria</td>\n",
              "      <td>12.7</td>\n",
              "    </tr>\n",
              "    <tr>\n",
              "      <th>8</th>\n",
              "      <td>Latvia</td>\n",
              "      <td>12.9</td>\n",
              "    </tr>\n",
              "    <tr>\n",
              "      <th>7</th>\n",
              "      <td>Moldova</td>\n",
              "      <td>13.0</td>\n",
              "    </tr>\n",
              "    <tr>\n",
              "      <th>6</th>\n",
              "      <td>Ireland</td>\n",
              "      <td>13.0</td>\n",
              "    </tr>\n",
              "    <tr>\n",
              "      <th>5</th>\n",
              "      <td>Nigeria</td>\n",
              "      <td>13.4</td>\n",
              "    </tr>\n",
              "    <tr>\n",
              "      <th>4</th>\n",
              "      <td>Germany</td>\n",
              "      <td>13.4</td>\n",
              "    </tr>\n",
              "    <tr>\n",
              "      <th>3</th>\n",
              "      <td>Seychelles</td>\n",
              "      <td>13.8</td>\n",
              "    </tr>\n",
              "    <tr>\n",
              "      <th>2</th>\n",
              "      <td>Czech Republic</td>\n",
              "      <td>14.3</td>\n",
              "    </tr>\n",
              "    <tr>\n",
              "      <th>1</th>\n",
              "      <td>Lithuania</td>\n",
              "      <td>15.0</td>\n",
              "    </tr>\n",
              "    <tr>\n",
              "      <th>0</th>\n",
              "      <td>Estonia</td>\n",
              "      <td>16.9</td>\n",
              "    </tr>\n",
              "  </tbody>\n",
              "</table>\n",
              "</div>"
            ],
            "text/plain": [
              "          country  total_consumption\n",
              "9        Bulgaria               12.7\n",
              "8          Latvia               12.9\n",
              "7         Moldova               13.0\n",
              "6         Ireland               13.0\n",
              "5         Nigeria               13.4\n",
              "4         Germany               13.4\n",
              "3      Seychelles               13.8\n",
              "2  Czech Republic               14.3\n",
              "1       Lithuania               15.0\n",
              "0         Estonia               16.9"
            ]
          },
          "execution_count": 21,
          "metadata": {},
          "output_type": "execute_result"
        }
      ],
      "source": [
        "top_consuming_countries = Sorted_consumption_df.tail(10)\n",
        "top_consuming_countries"
      ]
    },
    {
      "cell_type": "code",
      "execution_count": null,
      "metadata": {
        "id": "jDYe8PV7UDj1",
        "outputId": "2f35eee5-1f33-4029-b341-50abbf1a8edb"
      },
      "outputs": [
        {
          "data": {
            "image/png": "[encoded data removed]",
            "text/plain": [
              "<Figure size 1008x576 with 1 Axes>"
            ]
          },
          "metadata": {
            "needs_background": "light"
          },
          "output_type": "display_data"
        }
      ],
      "source": [
        "plt.xlabel('Countries')\n",
        "plt.ylabel('Total_alcohal_consumption(in_litres)')\n",
        "plt.title(\"top_alcohol_consuming_conutries\")\n",
        "plt.plot(top_consuming_countries.country, top_consuming_countries.total_consumption,\"o:r\")\n",
        "plt.show()"
      ]
    },
    {
      "cell_type": "markdown",
      "metadata": {
        "id": "Z1W1Vc0xUDj2"
      },
      "source": [
        "The graph above represents the top 10 countries by their total alcohol consumption. 8 out of the 10 countries that consume most alcohol are European"
      ]
    },
    {
      "cell_type": "code",
      "execution_count": null,
      "metadata": {
        "id": "cG1UsZSOUDj2",
        "outputId": "3b635c00-4c31-480e-8fa1-0302fb3917b9"
      },
      "outputs": [
        {
          "data": {
            "text/html": [
              "<div>\n",
              "<style scoped>\n",
              "    .dataframe tbody tr th:only-of-type {\n",
              "        vertical-align: middle;\n",
              "    }\n",
              "\n",
              "    .dataframe tbody tr th {\n",
              "        vertical-align: top;\n",
              "    }\n",
              "\n",
              "    .dataframe thead th {\n",
              "        text-align: right;\n",
              "    }\n",
              "</style>\n",
              "<table border=\"1\" class=\"dataframe\">\n",
              "  <thead>\n",
              "    <tr style=\"text-align: right;\">\n",
              "      <th></th>\n",
              "      <th>country</th>\n",
              "      <th>total_consumption</th>\n",
              "    </tr>\n",
              "  </thead>\n",
              "  <tbody>\n",
              "    <tr>\n",
              "      <th>183</th>\n",
              "      <td>Yemen</td>\n",
              "      <td>0.1</td>\n",
              "    </tr>\n",
              "    <tr>\n",
              "      <th>180</th>\n",
              "      <td>Syria</td>\n",
              "      <td>0.3</td>\n",
              "    </tr>\n",
              "    <tr>\n",
              "      <th>177</th>\n",
              "      <td>Iraq</td>\n",
              "      <td>0.4</td>\n",
              "    </tr>\n",
              "    <tr>\n",
              "      <th>175</th>\n",
              "      <td>Brunei</td>\n",
              "      <td>0.4</td>\n",
              "    </tr>\n",
              "    <tr>\n",
              "      <th>178</th>\n",
              "      <td>Kiribati</td>\n",
              "      <td>0.4</td>\n",
              "    </tr>\n",
              "    <tr>\n",
              "      <th>176</th>\n",
              "      <td>Egypt</td>\n",
              "      <td>0.4</td>\n",
              "    </tr>\n",
              "    <tr>\n",
              "      <th>173</th>\n",
              "      <td>Niger</td>\n",
              "      <td>0.5</td>\n",
              "    </tr>\n",
              "    <tr>\n",
              "      <th>172</th>\n",
              "      <td>Djibouti</td>\n",
              "      <td>0.5</td>\n",
              "    </tr>\n",
              "    <tr>\n",
              "      <th>171</th>\n",
              "      <td>Morocco</td>\n",
              "      <td>0.6</td>\n",
              "    </tr>\n",
              "    <tr>\n",
              "      <th>170</th>\n",
              "      <td>Bhutan</td>\n",
              "      <td>0.6</td>\n",
              "    </tr>\n",
              "  </tbody>\n",
              "</table>\n",
              "</div>"
            ],
            "text/plain": [
              "      country  total_consumption\n",
              "183     Yemen                0.1\n",
              "180     Syria                0.3\n",
              "177      Iraq                0.4\n",
              "175    Brunei                0.4\n",
              "178  Kiribati                0.4\n",
              "176     Egypt                0.4\n",
              "173     Niger                0.5\n",
              "172  Djibouti                0.5\n",
              "171   Morocco                0.6\n",
              "170    Bhutan                0.6"
            ]
          },
          "execution_count": 23,
          "metadata": {},
          "output_type": "execute_result"
        }
      ],
      "source": [
        "Countries_with_low_consumption = Sorted_consumption_df.head(10)\n",
        "Countries_with_low_consumption"
      ]
    },
    {
      "cell_type": "code",
      "execution_count": null,
      "metadata": {
        "id": "lB6rv5AAUDj3",
        "outputId": "b739debd-3ee8-4c76-ae7f-f85452c8eba7"
      },
      "outputs": [
        {
          "data": {
            "image/png": "[encoded data removed]",
            "text/plain": [
              "<Figure size 1008x576 with 1 Axes>"
            ]
          },
          "metadata": {
            "needs_background": "light"
          },
          "output_type": "display_data"
        }
      ],
      "source": [
        "plt.xlabel('Countries')\n",
        "plt.ylabel('Total_alcohal_consumption(in_litres)')\n",
        "plt.title(\"Countries_with_low_consumption\")\n",
        "plt.plot(Countries_with_low_consumption.country, Countries_with_low_consumption.total_consumption,\"o:r\")\n",
        "plt.show()"
      ]
    },
    {
      "cell_type": "markdown",
      "metadata": {
        "id": "ZNmnSbo9UDj3"
      },
      "source": [
        "The graph above represent lowest 10 countries by their total alcohol consumption. Countries with lowest consumption are those with Islam as their official religion. \n",
        "This is consistent with the idea that cultural and religious practices greatly influences consumption patterns.\n",
        "\n",
        "At the same time, the variance as can be inferred by the graphs is lower for countries with lower consumption than countries with higher consumption. "
      ]
    },
    {
      "cell_type": "code",
      "execution_count": null,
      "metadata": {
        "id": "vdU9yFYkUDj4",
        "outputId": "51814654-37ac-4808-c66c-cb3994c0b001"
      },
      "outputs": [
        {
          "data": {
            "text/html": [
              "<div>\n",
              "<style scoped>\n",
              "    .dataframe tbody tr th:only-of-type {\n",
              "        vertical-align: middle;\n",
              "    }\n",
              "\n",
              "    .dataframe tbody tr th {\n",
              "        vertical-align: top;\n",
              "    }\n",
              "\n",
              "    .dataframe thead th {\n",
              "        text-align: right;\n",
              "    }\n",
              "</style>\n",
              "<table border=\"1\" class=\"dataframe\">\n",
              "  <thead>\n",
              "    <tr style=\"text-align: right;\">\n",
              "      <th></th>\n",
              "      <th>country</th>\n",
              "      <th>total_consumption</th>\n",
              "      <th>recorded_consumption</th>\n",
              "      <th>unrecorded_consumption</th>\n",
              "      <th>beer_percentage</th>\n",
              "      <th>wine_percentage</th>\n",
              "      <th>spirits_percentage</th>\n",
              "      <th>other_percentage</th>\n",
              "      <th>2020_projection</th>\n",
              "      <th>2025_projection</th>\n",
              "      <th>spirits_consumption</th>\n",
              "      <th>beer_consumption</th>\n",
              "      <th>wine_consumption</th>\n",
              "      <th>other_consumption</th>\n",
              "      <th>beverage_consumption</th>\n",
              "    </tr>\n",
              "  </thead>\n",
              "  <tbody>\n",
              "    <tr>\n",
              "      <th>0</th>\n",
              "      <td>Estonia</td>\n",
              "      <td>16.9</td>\n",
              "      <td>15.8</td>\n",
              "      <td>1.1</td>\n",
              "      <td>32.7</td>\n",
              "      <td>7.4</td>\n",
              "      <td>50.3</td>\n",
              "      <td>9.6</td>\n",
              "      <td>11.5</td>\n",
              "      <td>11.9</td>\n",
              "      <td>8.5007</td>\n",
              "      <td>5.5263</td>\n",
              "      <td>1.2506</td>\n",
              "      <td>1.6224</td>\n",
              "      <td>6.7769</td>\n",
              "    </tr>\n",
              "    <tr>\n",
              "      <th>1</th>\n",
              "      <td>Lithuania</td>\n",
              "      <td>15.0</td>\n",
              "      <td>13.8</td>\n",
              "      <td>1.2</td>\n",
              "      <td>43.6</td>\n",
              "      <td>7.3</td>\n",
              "      <td>37.1</td>\n",
              "      <td>12.1</td>\n",
              "      <td>14.4</td>\n",
              "      <td>13.9</td>\n",
              "      <td>5.5650</td>\n",
              "      <td>6.5400</td>\n",
              "      <td>1.0950</td>\n",
              "      <td>1.8150</td>\n",
              "      <td>7.6350</td>\n",
              "    </tr>\n",
              "    <tr>\n",
              "      <th>2</th>\n",
              "      <td>Czech Republic</td>\n",
              "      <td>14.3</td>\n",
              "      <td>12.4</td>\n",
              "      <td>1.4</td>\n",
              "      <td>53.3</td>\n",
              "      <td>21.3</td>\n",
              "      <td>25.4</td>\n",
              "      <td>0.0</td>\n",
              "      <td>11.2</td>\n",
              "      <td>11.4</td>\n",
              "      <td>3.6322</td>\n",
              "      <td>7.6219</td>\n",
              "      <td>3.0459</td>\n",
              "      <td>0.0000</td>\n",
              "      <td>10.6678</td>\n",
              "    </tr>\n",
              "    <tr>\n",
              "      <th>3</th>\n",
              "      <td>Seychelles</td>\n",
              "      <td>13.8</td>\n",
              "      <td>12.4</td>\n",
              "      <td>1.4</td>\n",
              "      <td>68.9</td>\n",
              "      <td>22.4</td>\n",
              "      <td>6.3</td>\n",
              "      <td>2.5</td>\n",
              "      <td>10.4</td>\n",
              "      <td>10.6</td>\n",
              "      <td>0.8694</td>\n",
              "      <td>9.5082</td>\n",
              "      <td>3.0912</td>\n",
              "      <td>0.3450</td>\n",
              "      <td>12.5994</td>\n",
              "    </tr>\n",
              "    <tr>\n",
              "      <th>4</th>\n",
              "      <td>Germany</td>\n",
              "      <td>13.4</td>\n",
              "      <td>11.3</td>\n",
              "      <td>1.4</td>\n",
              "      <td>52.6</td>\n",
              "      <td>28.4</td>\n",
              "      <td>18.9</td>\n",
              "      <td>0.0</td>\n",
              "      <td>12.8</td>\n",
              "      <td>12.6</td>\n",
              "      <td>2.5326</td>\n",
              "      <td>7.0484</td>\n",
              "      <td>3.8056</td>\n",
              "      <td>0.0000</td>\n",
              "      <td>10.8540</td>\n",
              "    </tr>\n",
              "    <tr>\n",
              "      <th>...</th>\n",
              "      <td>...</td>\n",
              "      <td>...</td>\n",
              "      <td>...</td>\n",
              "      <td>...</td>\n",
              "      <td>...</td>\n",
              "      <td>...</td>\n",
              "      <td>...</td>\n",
              "      <td>...</td>\n",
              "      <td>...</td>\n",
              "      <td>...</td>\n",
              "      <td>...</td>\n",
              "      <td>...</td>\n",
              "      <td>...</td>\n",
              "      <td>...</td>\n",
              "      <td>...</td>\n",
              "    </tr>\n",
              "    <tr>\n",
              "      <th>176</th>\n",
              "      <td>Egypt</td>\n",
              "      <td>0.4</td>\n",
              "      <td>0.2</td>\n",
              "      <td>0.2</td>\n",
              "      <td>62.0</td>\n",
              "      <td>4.4</td>\n",
              "      <td>33.1</td>\n",
              "      <td>0.6</td>\n",
              "      <td>0.4</td>\n",
              "      <td>0.5</td>\n",
              "      <td>0.1324</td>\n",
              "      <td>0.2480</td>\n",
              "      <td>0.0176</td>\n",
              "      <td>0.0024</td>\n",
              "      <td>0.2656</td>\n",
              "    </tr>\n",
              "    <tr>\n",
              "      <th>177</th>\n",
              "      <td>Iraq</td>\n",
              "      <td>0.4</td>\n",
              "      <td>0.2</td>\n",
              "      <td>0.2</td>\n",
              "      <td>71.0</td>\n",
              "      <td>2.4</td>\n",
              "      <td>25.7</td>\n",
              "      <td>0.9</td>\n",
              "      <td>0.5</td>\n",
              "      <td>0.6</td>\n",
              "      <td>0.1028</td>\n",
              "      <td>0.2840</td>\n",
              "      <td>0.0096</td>\n",
              "      <td>0.0036</td>\n",
              "      <td>0.2936</td>\n",
              "    </tr>\n",
              "    <tr>\n",
              "      <th>178</th>\n",
              "      <td>Kiribati</td>\n",
              "      <td>0.4</td>\n",
              "      <td>0.4</td>\n",
              "      <td>0.2</td>\n",
              "      <td>100.0</td>\n",
              "      <td>0.0</td>\n",
              "      <td>0.0</td>\n",
              "      <td>0.0</td>\n",
              "      <td>0.4</td>\n",
              "      <td>0.4</td>\n",
              "      <td>0.0000</td>\n",
              "      <td>0.4000</td>\n",
              "      <td>0.0000</td>\n",
              "      <td>0.0000</td>\n",
              "      <td>0.4000</td>\n",
              "    </tr>\n",
              "    <tr>\n",
              "      <th>180</th>\n",
              "      <td>Syria</td>\n",
              "      <td>0.3</td>\n",
              "      <td>0.2</td>\n",
              "      <td>0.1</td>\n",
              "      <td>11.6</td>\n",
              "      <td>1.1</td>\n",
              "      <td>87.2</td>\n",
              "      <td>0.0</td>\n",
              "      <td>0.3</td>\n",
              "      <td>0.3</td>\n",
              "      <td>0.2616</td>\n",
              "      <td>0.0348</td>\n",
              "      <td>0.0033</td>\n",
              "      <td>0.0000</td>\n",
              "      <td>0.0381</td>\n",
              "    </tr>\n",
              "    <tr>\n",
              "      <th>183</th>\n",
              "      <td>Yemen</td>\n",
              "      <td>0.1</td>\n",
              "      <td>0.0</td>\n",
              "      <td>0.0</td>\n",
              "      <td>89.5</td>\n",
              "      <td>0.0</td>\n",
              "      <td>10.5</td>\n",
              "      <td>0.0</td>\n",
              "      <td>0.1</td>\n",
              "      <td>0.1</td>\n",
              "      <td>0.0105</td>\n",
              "      <td>0.0895</td>\n",
              "      <td>0.0000</td>\n",
              "      <td>0.0000</td>\n",
              "      <td>0.0895</td>\n",
              "    </tr>\n",
              "  </tbody>\n",
              "</table>\n",
              "<p>179 rows × 15 columns</p>\n",
              "</div>"
            ],
            "text/plain": [
              "            country  total_consumption  recorded_consumption  \\\n",
              "0           Estonia               16.9                  15.8   \n",
              "1         Lithuania               15.0                  13.8   \n",
              "2    Czech Republic               14.3                  12.4   \n",
              "3        Seychelles               13.8                  12.4   \n",
              "4           Germany               13.4                  11.3   \n",
              "..              ...                ...                   ...   \n",
              "176           Egypt                0.4                   0.2   \n",
              "177            Iraq                0.4                   0.2   \n",
              "178        Kiribati                0.4                   0.4   \n",
              "180           Syria                0.3                   0.2   \n",
              "183           Yemen                0.1                   0.0   \n",
              "\n",
              "     unrecorded_consumption  beer_percentage  wine_percentage  \\\n",
              "0                       1.1             32.7              7.4   \n",
              "1                       1.2             43.6              7.3   \n",
              "2                       1.4             53.3             21.3   \n",
              "3                       1.4             68.9             22.4   \n",
              "4                       1.4             52.6             28.4   \n",
              "..                      ...              ...              ...   \n",
              "176                     0.2             62.0              4.4   \n",
              "177                     0.2             71.0              2.4   \n",
              "178                     0.2            100.0              0.0   \n",
              "180                     0.1             11.6              1.1   \n",
              "183                     0.0             89.5              0.0   \n",
              "\n",
              "     spirits_percentage  other_percentage  2020_projection  2025_projection  \\\n",
              "0                  50.3               9.6             11.5             11.9   \n",
              "1                  37.1              12.1             14.4             13.9   \n",
              "2                  25.4               0.0             11.2             11.4   \n",
              "3                   6.3               2.5             10.4             10.6   \n",
              "4                  18.9               0.0             12.8             12.6   \n",
              "..                  ...               ...              ...              ...   \n",
              "176                33.1               0.6              0.4              0.5   \n",
              "177                25.7               0.9              0.5              0.6   \n",
              "178                 0.0               0.0              0.4              0.4   \n",
              "180                87.2               0.0              0.3              0.3   \n",
              "183                10.5               0.0              0.1              0.1   \n",
              "\n",
              "     spirits_consumption  beer_consumption  wine_consumption  \\\n",
              "0                 8.5007            5.5263            1.2506   \n",
              "1                 5.5650            6.5400            1.0950   \n",
              "2                 3.6322            7.6219            3.0459   \n",
              "3                 0.8694            9.5082            3.0912   \n",
              "4                 2.5326            7.0484            3.8056   \n",
              "..                   ...               ...               ...   \n",
              "176               0.1324            0.2480            0.0176   \n",
              "177               0.1028            0.2840            0.0096   \n",
              "178               0.0000            0.4000            0.0000   \n",
              "180               0.2616            0.0348            0.0033   \n",
              "183               0.0105            0.0895            0.0000   \n",
              "\n",
              "     other_consumption  beverage_consumption  \n",
              "0               1.6224                6.7769  \n",
              "1               1.8150                7.6350  \n",
              "2               0.0000               10.6678  \n",
              "3               0.3450               12.5994  \n",
              "4               0.0000               10.8540  \n",
              "..                 ...                   ...  \n",
              "176             0.0024                0.2656  \n",
              "177             0.0036                0.2936  \n",
              "178             0.0000                0.4000  \n",
              "180             0.0000                0.0381  \n",
              "183             0.0000                0.0895  \n",
              "\n",
              "[179 rows x 15 columns]"
            ]
          },
          "execution_count": 25,
          "metadata": {},
          "output_type": "execute_result"
        }
      ],
      "source": [
        "Alcohol_df"
      ]
    },
    {
      "cell_type": "code",
      "execution_count": null,
      "metadata": {
        "id": "ZvdrGdesUDj4",
        "outputId": "9793629f-3195-4cb4-fa75-f364f1d692ed"
      },
      "outputs": [
        {
          "data": {
            "image/png": "[encoded data removed]",
            "text/plain": [
              "<Figure size 720x360 with 1 Axes>"
            ]
          },
          "metadata": {
            "needs_background": "light"
          },
          "output_type": "display_data"
        }
      ],
      "source": [
        "matplotlib.rcParams['figure.figsize'] = (10, 5)\n",
        "matplotlib.rcParams['figure.facecolor'] = '#00000022'\n",
        "plt.ylabel('Count')\n",
        "plt.xlabel('Consumption')\n",
        "plt.title('Distribution_of_total_alcohol_consumption')\n",
        "plt.hist(Alcohol_df.total_consumption)\n",
        "plt.show()"
      ]
    },
    {
      "cell_type": "markdown",
      "metadata": {
        "id": "bCWQlvqxUDj5"
      },
      "source": [
        "The histogram shows distribution of alcohol consumption across countries. The X axis shows the amount of alcohol consumption (as range) while the Y axis shows the no of countries that fall under that interval. "
      ]
    },
    {
      "cell_type": "code",
      "execution_count": null,
      "metadata": {
        "scrolled": false,
        "id": "ZVQLIy8yUDj5",
        "outputId": "7ffcfc02-b34f-4ff1-fff9-02a0bab01cbc"
      },
      "outputs": [
        {
          "data": {
            "image/png": "[encoded data removed]",
            "text/plain": [
              "<Figure size 720x360 with 1 Axes>"
            ]
          },
          "metadata": {
            "needs_background": "light"
          },
          "output_type": "display_data"
        },
        {
          "data": {
            "image/png": "[encoded data removed]",
            "text/plain": [
              "<Figure size 720x360 with 1 Axes>"
            ]
          },
          "metadata": {
            "needs_background": "light"
          },
          "output_type": "display_data"
        }
      ],
      "source": [
        "plt.ylabel('Count')\n",
        "plt.xlabel('Consumption')\n",
        "plt.title('Distribution_of_2025_projection')\n",
        "plt.hist(Alcohol_df['2025_projection'])\n",
        "plt.show()\n",
        "\n",
        "plt.ylabel('Count')\n",
        "plt.xlabel('Consumption')\n",
        "plt.title('Distribution_of_2020_projection')\n",
        "plt.hist(Alcohol_df['2020_projection'])\n",
        "plt.show()"
      ]
    },
    {
      "cell_type": "markdown",
      "metadata": {
        "id": "kVgtA-9CUDj6"
      },
      "source": [
        "In the above segment, Distribution of the total_consumption in 2016 and predictions in the year 2020 and 2025 are shown using histograms. While the countries consuming lesser alcohol seems to not projected to change much in 2020, its projected to increase in 2025.\n",
        "At the same time lesser countries fall on extreme right. \n",
        "variation in Alcohol consumption slightly increases in 2025"
      ]
    },
    {
      "cell_type": "code",
      "execution_count": null,
      "metadata": {
        "scrolled": false,
        "id": "IlEOc2-gUDj6",
        "outputId": "b0543b3c-0597-4770-f317-3d37585e17e6"
      },
      "outputs": [
        {
          "data": {
            "image/png": "[encoded data removed]",
            "text/plain": [
              "<Figure size 720x360 with 1 Axes>"
            ]
          },
          "metadata": {
            "needs_background": "light"
          },
          "output_type": "display_data"
        },
        {
          "data": {
            "image/png": "[encoded data removed]",
            "text/plain": [
              "<Figure size 720x360 with 1 Axes>"
            ]
          },
          "metadata": {
            "needs_background": "light"
          },
          "output_type": "display_data"
        }
      ],
      "source": [
        "plt.ylabel('Count')\n",
        "plt.xlabel('Consumption')\n",
        "plt.title('Distribution_of_Beer_consumption')\n",
        "plt.hist(Alcohol_df['beer_consumption'])\n",
        "plt.show()\n",
        "\n",
        "plt.ylabel('Count')\n",
        "plt.xlabel('Consumption')\n",
        "plt.title('Distribution_of_Wine_consumption')\n",
        "plt.hist(Alcohol_df['wine_consumption'])\n",
        "plt.show()"
      ]
    },
    {
      "cell_type": "markdown",
      "metadata": {
        "id": "DUwGoKVrUDj7"
      },
      "source": [
        "The two histograms compare patterns of beer and wine consumption respectively. Preference for wine varies more across countries compared to Beer. It could be inferred that countries fewer countries consume wine as compared to beer.  "
      ]
    },
    {
      "cell_type": "code",
      "execution_count": null,
      "metadata": {
        "id": "MgBqN83nUDj7",
        "outputId": "725dab9c-b769-4221-e0e2-bfd861cdd6cc"
      },
      "outputs": [
        {
          "data": {
            "image/png": "[encoded data removed]",
            "text/plain": [
              "<Figure size 720x360 with 1 Axes>"
            ]
          },
          "metadata": {
            "needs_background": "light"
          },
          "output_type": "display_data"
        }
      ],
      "source": [
        "plt.title('distribution of Spirits Consumption')\n",
        "plt.ylabel('Count')\n",
        "plt.xlabel('Consumption')\n",
        "plt.hist(Alcohol_df['spirits_consumption'])\n",
        "plt.show()"
      ]
    },
    {
      "cell_type": "markdown",
      "metadata": {
        "id": "pb723GyYUDj8"
      },
      "source": [
        "The consumption of spirits ranges from 0 to 8 litres. Most countries fall in the consumption range of 0-2"
      ]
    },
    {
      "cell_type": "code",
      "execution_count": null,
      "metadata": {
        "id": "SOR9UX7VUDj8",
        "outputId": "d63c79a8-b873-486e-d0ed-b5f8865c63c9"
      },
      "outputs": [
        {
          "name": "stdout",
          "output_type": "stream",
          "text": [
            "1166.5\n",
            "6.516759776536314\n"
          ]
        }
      ],
      "source": [
        "print(np.sum(Alcohol_df['total_consumption']))\n",
        "print(np.mean(Alcohol_df['total_consumption']))"
      ]
    },
    {
      "cell_type": "code",
      "execution_count": null,
      "metadata": {
        "id": "gnyoISSRUDj9",
        "outputId": "8e5e54cd-9a46-4569-9adb-743fb3983cab"
      },
      "outputs": [
        {
          "name": "stdout",
          "output_type": "stream",
          "text": [
            "1217.6\n",
            "6.8022346368715025\n"
          ]
        }
      ],
      "source": [
        "print(np.sum(Alcohol_df['2025_projection']))\n",
        "print(np.mean(Alcohol_df['2025_projection']))"
      ]
    },
    {
      "cell_type": "code",
      "execution_count": null,
      "metadata": {
        "id": "W0hdxOJkUDj9",
        "outputId": "ce2d7ef9-a57c-4756-baeb-ff2016a43e34"
      },
      "outputs": [
        {
          "data": {
            "text/plain": [
              "<AxesSubplot:title={'center':'Beer and Spirits consumption'}, xlabel='spirits_percentage', ylabel='beer_percentage'>"
            ]
          },
          "execution_count": 32,
          "metadata": {},
          "output_type": "execute_result"
        },
        {
          "data": {
            "image/png": "[encoded data removed]",
            "text/plain": [
              "<Figure size 720x360 with 1 Axes>"
            ]
          },
          "metadata": {
            "needs_background": "light"
          },
          "output_type": "display_data"
        }
      ],
      "source": [
        "plt.title(\"Beer and Spirits consumption\")\n",
        "sns.scatterplot(x = Alcohol_df.spirits_percentage, y = Alcohol_df.beer_percentage)"
      ]
    },
    {
      "cell_type": "code",
      "execution_count": null,
      "metadata": {
        "id": "NAm2xm46UDj-",
        "outputId": "08496639-c5da-44d1-9a7c-7ef8dd8dcf55"
      },
      "outputs": [
        {
          "data": {
            "text/plain": [
              "<AxesSubplot:title={'center':'Spirits and Wine consumption'}, xlabel='spirits_percentage', ylabel='wine_percentage'>"
            ]
          },
          "execution_count": 33,
          "metadata": {},
          "output_type": "execute_result"
        },
        {
          "data": {
            "image/png": "[encoded data removed]",
            "text/plain": [
              "<Figure size 720x360 with 1 Axes>"
            ]
          },
          "metadata": {
            "needs_background": "light"
          },
          "output_type": "display_data"
        }
      ],
      "source": [
        "plt.title(\"Spirits and Wine consumption\")\n",
        "sns.scatterplot(x = Alcohol_df.spirits_percentage, y = Alcohol_df.wine_percentage)"
      ]
    },
    {
      "cell_type": "markdown",
      "metadata": {
        "id": "ZymLhjSMUDj_"
      },
      "source": [
        "From the figure above, I try to see if there is any relationship between percentages of beer and spirits consumed  as well as percentages of wine and spirits consumed. The graph depicts a weak negative relationship between beer and spirits consumption. "
      ]
    },
    {
      "cell_type": "code",
      "execution_count": null,
      "metadata": {
        "id": "u3F94xw-UDkA",
        "outputId": "dc1d1b94-f52e-4947-d9e3-7596db5c1b41"
      },
      "outputs": [
        {
          "data": {
            "text/plain": [
              "0      50.3\n",
              "1      37.1\n",
              "2      25.4\n",
              "3       6.3\n",
              "4      18.9\n",
              "       ... \n",
              "176    33.1\n",
              "177    25.7\n",
              "178     0.0\n",
              "180    87.2\n",
              "183    10.5\n",
              "Name: spirits_percentage, Length: 179, dtype: float64"
            ]
          },
          "execution_count": 34,
          "metadata": {},
          "output_type": "execute_result"
        }
      ],
      "source": [
        "Alcohol_df.spirits_percentage"
      ]
    },
    {
      "cell_type": "markdown",
      "metadata": {
        "id": "9HWuM1CTUDkC"
      },
      "source": [
        "#### Q1: - What is the distribution of Consumption in Oman compared to Ireland? (Any group of countries can be taken)"
      ]
    },
    {
      "cell_type": "code",
      "execution_count": null,
      "metadata": {
        "scrolled": false,
        "id": "geGk1P4fUDkC",
        "outputId": "325ad1f6-42be-4ad7-ccf0-34ec8cb473b6"
      },
      "outputs": [
        {
          "data": {
            "text/html": [
              "<div>\n",
              "<style scoped>\n",
              "    .dataframe tbody tr th:only-of-type {\n",
              "        vertical-align: middle;\n",
              "    }\n",
              "\n",
              "    .dataframe tbody tr th {\n",
              "        vertical-align: top;\n",
              "    }\n",
              "\n",
              "    .dataframe thead th {\n",
              "        text-align: right;\n",
              "    }\n",
              "</style>\n",
              "<table border=\"1\" class=\"dataframe\">\n",
              "  <thead>\n",
              "    <tr style=\"text-align: right;\">\n",
              "      <th></th>\n",
              "      <th>country</th>\n",
              "      <th>total_consumption</th>\n",
              "      <th>recorded_consumption</th>\n",
              "      <th>unrecorded_consumption</th>\n",
              "      <th>beer_percentage</th>\n",
              "      <th>wine_percentage</th>\n",
              "      <th>spirits_percentage</th>\n",
              "      <th>other_percentage</th>\n",
              "      <th>2020_projection</th>\n",
              "      <th>2025_projection</th>\n",
              "      <th>spirits_consumption</th>\n",
              "      <th>beer_consumption</th>\n",
              "      <th>wine_consumption</th>\n",
              "      <th>other_consumption</th>\n",
              "      <th>beverage_consumption</th>\n",
              "    </tr>\n",
              "  </thead>\n",
              "  <tbody>\n",
              "    <tr>\n",
              "      <th>0</th>\n",
              "      <td>Estonia</td>\n",
              "      <td>16.9</td>\n",
              "      <td>15.8</td>\n",
              "      <td>1.1</td>\n",
              "      <td>32.7</td>\n",
              "      <td>7.4</td>\n",
              "      <td>50.3</td>\n",
              "      <td>9.6</td>\n",
              "      <td>11.5</td>\n",
              "      <td>11.9</td>\n",
              "      <td>8.5007</td>\n",
              "      <td>5.5263</td>\n",
              "      <td>1.2506</td>\n",
              "      <td>1.6224</td>\n",
              "      <td>6.7769</td>\n",
              "    </tr>\n",
              "    <tr>\n",
              "      <th>1</th>\n",
              "      <td>Lithuania</td>\n",
              "      <td>15.0</td>\n",
              "      <td>13.8</td>\n",
              "      <td>1.2</td>\n",
              "      <td>43.6</td>\n",
              "      <td>7.3</td>\n",
              "      <td>37.1</td>\n",
              "      <td>12.1</td>\n",
              "      <td>14.4</td>\n",
              "      <td>13.9</td>\n",
              "      <td>5.5650</td>\n",
              "      <td>6.5400</td>\n",
              "      <td>1.0950</td>\n",
              "      <td>1.8150</td>\n",
              "      <td>7.6350</td>\n",
              "    </tr>\n",
              "    <tr>\n",
              "      <th>2</th>\n",
              "      <td>Czech Republic</td>\n",
              "      <td>14.3</td>\n",
              "      <td>12.4</td>\n",
              "      <td>1.4</td>\n",
              "      <td>53.3</td>\n",
              "      <td>21.3</td>\n",
              "      <td>25.4</td>\n",
              "      <td>0.0</td>\n",
              "      <td>11.2</td>\n",
              "      <td>11.4</td>\n",
              "      <td>3.6322</td>\n",
              "      <td>7.6219</td>\n",
              "      <td>3.0459</td>\n",
              "      <td>0.0000</td>\n",
              "      <td>10.6678</td>\n",
              "    </tr>\n",
              "    <tr>\n",
              "      <th>3</th>\n",
              "      <td>Seychelles</td>\n",
              "      <td>13.8</td>\n",
              "      <td>12.4</td>\n",
              "      <td>1.4</td>\n",
              "      <td>68.9</td>\n",
              "      <td>22.4</td>\n",
              "      <td>6.3</td>\n",
              "      <td>2.5</td>\n",
              "      <td>10.4</td>\n",
              "      <td>10.6</td>\n",
              "      <td>0.8694</td>\n",
              "      <td>9.5082</td>\n",
              "      <td>3.0912</td>\n",
              "      <td>0.3450</td>\n",
              "      <td>12.5994</td>\n",
              "    </tr>\n",
              "    <tr>\n",
              "      <th>4</th>\n",
              "      <td>Germany</td>\n",
              "      <td>13.4</td>\n",
              "      <td>11.3</td>\n",
              "      <td>1.4</td>\n",
              "      <td>52.6</td>\n",
              "      <td>28.4</td>\n",
              "      <td>18.9</td>\n",
              "      <td>0.0</td>\n",
              "      <td>12.8</td>\n",
              "      <td>12.6</td>\n",
              "      <td>2.5326</td>\n",
              "      <td>7.0484</td>\n",
              "      <td>3.8056</td>\n",
              "      <td>0.0000</td>\n",
              "      <td>10.8540</td>\n",
              "    </tr>\n",
              "    <tr>\n",
              "      <th>...</th>\n",
              "      <td>...</td>\n",
              "      <td>...</td>\n",
              "      <td>...</td>\n",
              "      <td>...</td>\n",
              "      <td>...</td>\n",
              "      <td>...</td>\n",
              "      <td>...</td>\n",
              "      <td>...</td>\n",
              "      <td>...</td>\n",
              "      <td>...</td>\n",
              "      <td>...</td>\n",
              "      <td>...</td>\n",
              "      <td>...</td>\n",
              "      <td>...</td>\n",
              "      <td>...</td>\n",
              "    </tr>\n",
              "    <tr>\n",
              "      <th>176</th>\n",
              "      <td>Egypt</td>\n",
              "      <td>0.4</td>\n",
              "      <td>0.2</td>\n",
              "      <td>0.2</td>\n",
              "      <td>62.0</td>\n",
              "      <td>4.4</td>\n",
              "      <td>33.1</td>\n",
              "      <td>0.6</td>\n",
              "      <td>0.4</td>\n",
              "      <td>0.5</td>\n",
              "      <td>0.1324</td>\n",
              "      <td>0.2480</td>\n",
              "      <td>0.0176</td>\n",
              "      <td>0.0024</td>\n",
              "      <td>0.2656</td>\n",
              "    </tr>\n",
              "    <tr>\n",
              "      <th>177</th>\n",
              "      <td>Iraq</td>\n",
              "      <td>0.4</td>\n",
              "      <td>0.2</td>\n",
              "      <td>0.2</td>\n",
              "      <td>71.0</td>\n",
              "      <td>2.4</td>\n",
              "      <td>25.7</td>\n",
              "      <td>0.9</td>\n",
              "      <td>0.5</td>\n",
              "      <td>0.6</td>\n",
              "      <td>0.1028</td>\n",
              "      <td>0.2840</td>\n",
              "      <td>0.0096</td>\n",
              "      <td>0.0036</td>\n",
              "      <td>0.2936</td>\n",
              "    </tr>\n",
              "    <tr>\n",
              "      <th>178</th>\n",
              "      <td>Kiribati</td>\n",
              "      <td>0.4</td>\n",
              "      <td>0.4</td>\n",
              "      <td>0.2</td>\n",
              "      <td>100.0</td>\n",
              "      <td>0.0</td>\n",
              "      <td>0.0</td>\n",
              "      <td>0.0</td>\n",
              "      <td>0.4</td>\n",
              "      <td>0.4</td>\n",
              "      <td>0.0000</td>\n",
              "      <td>0.4000</td>\n",
              "      <td>0.0000</td>\n",
              "      <td>0.0000</td>\n",
              "      <td>0.4000</td>\n",
              "    </tr>\n",
              "    <tr>\n",
              "      <th>180</th>\n",
              "      <td>Syria</td>\n",
              "      <td>0.3</td>\n",
              "      <td>0.2</td>\n",
              "      <td>0.1</td>\n",
              "      <td>11.6</td>\n",
              "      <td>1.1</td>\n",
              "      <td>87.2</td>\n",
              "      <td>0.0</td>\n",
              "      <td>0.3</td>\n",
              "      <td>0.3</td>\n",
              "      <td>0.2616</td>\n",
              "      <td>0.0348</td>\n",
              "      <td>0.0033</td>\n",
              "      <td>0.0000</td>\n",
              "      <td>0.0381</td>\n",
              "    </tr>\n",
              "    <tr>\n",
              "      <th>183</th>\n",
              "      <td>Yemen</td>\n",
              "      <td>0.1</td>\n",
              "      <td>0.0</td>\n",
              "      <td>0.0</td>\n",
              "      <td>89.5</td>\n",
              "      <td>0.0</td>\n",
              "      <td>10.5</td>\n",
              "      <td>0.0</td>\n",
              "      <td>0.1</td>\n",
              "      <td>0.1</td>\n",
              "      <td>0.0105</td>\n",
              "      <td>0.0895</td>\n",
              "      <td>0.0000</td>\n",
              "      <td>0.0000</td>\n",
              "      <td>0.0895</td>\n",
              "    </tr>\n",
              "  </tbody>\n",
              "</table>\n",
              "<p>179 rows × 15 columns</p>\n",
              "</div>"
            ],
            "text/plain": [
              "            country  total_consumption  recorded_consumption  \\\n",
              "0           Estonia               16.9                  15.8   \n",
              "1         Lithuania               15.0                  13.8   \n",
              "2    Czech Republic               14.3                  12.4   \n",
              "3        Seychelles               13.8                  12.4   \n",
              "4           Germany               13.4                  11.3   \n",
              "..              ...                ...                   ...   \n",
              "176           Egypt                0.4                   0.2   \n",
              "177            Iraq                0.4                   0.2   \n",
              "178        Kiribati                0.4                   0.4   \n",
              "180           Syria                0.3                   0.2   \n",
              "183           Yemen                0.1                   0.0   \n",
              "\n",
              "     unrecorded_consumption  beer_percentage  wine_percentage  \\\n",
              "0                       1.1             32.7              7.4   \n",
              "1                       1.2             43.6              7.3   \n",
              "2                       1.4             53.3             21.3   \n",
              "3                       1.4             68.9             22.4   \n",
              "4                       1.4             52.6             28.4   \n",
              "..                      ...              ...              ...   \n",
              "176                     0.2             62.0              4.4   \n",
              "177                     0.2             71.0              2.4   \n",
              "178                     0.2            100.0              0.0   \n",
              "180                     0.1             11.6              1.1   \n",
              "183                     0.0             89.5              0.0   \n",
              "\n",
              "     spirits_percentage  other_percentage  2020_projection  2025_projection  \\\n",
              "0                  50.3               9.6             11.5             11.9   \n",
              "1                  37.1              12.1             14.4             13.9   \n",
              "2                  25.4               0.0             11.2             11.4   \n",
              "3                   6.3               2.5             10.4             10.6   \n",
              "4                  18.9               0.0             12.8             12.6   \n",
              "..                  ...               ...              ...              ...   \n",
              "176                33.1               0.6              0.4              0.5   \n",
              "177                25.7               0.9              0.5              0.6   \n",
              "178                 0.0               0.0              0.4              0.4   \n",
              "180                87.2               0.0              0.3              0.3   \n",
              "183                10.5               0.0              0.1              0.1   \n",
              "\n",
              "     spirits_consumption  beer_consumption  wine_consumption  \\\n",
              "0                 8.5007            5.5263            1.2506   \n",
              "1                 5.5650            6.5400            1.0950   \n",
              "2                 3.6322            7.6219            3.0459   \n",
              "3                 0.8694            9.5082            3.0912   \n",
              "4                 2.5326            7.0484            3.8056   \n",
              "..                   ...               ...               ...   \n",
              "176               0.1324            0.2480            0.0176   \n",
              "177               0.1028            0.2840            0.0096   \n",
              "178               0.0000            0.4000            0.0000   \n",
              "180               0.2616            0.0348            0.0033   \n",
              "183               0.0105            0.0895            0.0000   \n",
              "\n",
              "     other_consumption  beverage_consumption  \n",
              "0               1.6224                6.7769  \n",
              "1               1.8150                7.6350  \n",
              "2               0.0000               10.6678  \n",
              "3               0.3450               12.5994  \n",
              "4               0.0000               10.8540  \n",
              "..                 ...                   ...  \n",
              "176             0.0024                0.2656  \n",
              "177             0.0036                0.2936  \n",
              "178             0.0000                0.4000  \n",
              "180             0.0000                0.0381  \n",
              "183             0.0000                0.0895  \n",
              "\n",
              "[179 rows x 15 columns]"
            ]
          },
          "execution_count": 37,
          "metadata": {},
          "output_type": "execute_result"
        }
      ],
      "source": [
        "Alcohol_df"
      ]
    },
    {
      "cell_type": "code",
      "execution_count": null,
      "metadata": {
        "scrolled": false,
        "id": "2QTFvzinUDkD",
        "outputId": "677e4fc4-76a1-478e-9284-df58db6d03a5"
      },
      "outputs": [
        {
          "name": "stdout",
          "output_type": "stream",
          "text": [
            "country                     Oman\n",
            "total_consumption            0.8\n",
            "recorded_consumption         0.4\n",
            "unrecorded_consumption       0.4\n",
            "beer_percentage             39.8\n",
            "wine_percentage              2.8\n",
            "spirits_percentage          57.0\n",
            "other_percentage             0.3\n",
            "2020_projection              0.8\n",
            "2025_projection              0.9\n",
            "spirits_consumption        0.456\n",
            "beer_consumption          0.3184\n",
            "wine_consumption          0.0224\n",
            "other_consumption         0.0024\n",
            "beverage_consumption      0.3408\n",
            "Name: 167, dtype: object\n",
            "country                   Ireland\n",
            "total_consumption            13.0\n",
            "recorded_consumption         11.3\n",
            "unrecorded_consumption        1.4\n",
            "beer_percentage              47.0\n",
            "wine_percentage              28.0\n",
            "spirits_percentage           18.8\n",
            "other_percentage              6.2\n",
            "2020_projection              13.5\n",
            "2025_projection              13.9\n",
            "spirits_consumption         2.444\n",
            "beer_consumption             6.11\n",
            "wine_consumption             3.64\n",
            "other_consumption           0.806\n",
            "beverage_consumption         9.75\n",
            "Name: 6, dtype: object\n"
          ]
        }
      ],
      "source": [
        "Ireland=(Alcohol_df.loc[6])\n",
        "Oman = (Alcohol_df.loc[167])\n",
        "print(Oman)\n",
        "print(Ireland)"
      ]
    },
    {
      "cell_type": "code",
      "execution_count": null,
      "metadata": {
        "id": "h1sGLk5nUDkD",
        "outputId": "70169354-6dc9-4af9-a6a3-2e53514a6039"
      },
      "outputs": [
        {
          "data": {
            "image/png": "[encoded data removed]",
            "text/plain": [
              "<Figure size 720x360 with 1 Axes>"
            ]
          },
          "metadata": {},
          "output_type": "display_data"
        },
        {
          "data": {
            "image/png": "[encoded data removed]",
            "text/plain": [
              "<Figure size 720x360 with 1 Axes>"
            ]
          },
          "metadata": {},
          "output_type": "display_data"
        }
      ],
      "source": [
        "data =[47.0,28.0,18.8,6.2]\n",
        "labels = ['Beer','Wine','Spirits','Other']\n",
        "plt.title('Ireland')   \n",
        "plt.pie(data, labels = labels)\n",
        "plt.show()\n",
        "\n",
        "data_1 = [39.8,2.8,57,0.3]\n",
        "labels_1 = ['Beer','Wine','Spirits','other']\n",
        "plt.title('Oman')   \n",
        "plt.pie(data_1, labels = labels_1)\n",
        "plt.show()"
      ]
    },
    {
      "cell_type": "markdown",
      "metadata": {
        "id": "GJ9ucsvwUDkE"
      },
      "source": [
        "For the above, We select two countries with similar population size. Their total consumption, however varies by a large amount owing to cultural and Religious factors. \n",
        "\n",
        "Surprisingly, Even when Oman consumes lesser alcohol. Its consumption of beer has a fairly large share in total consumption.   \n",
        "\n",
        "Similar analyses can be done for other countries to ascertain factors that affect Alcohol consumption "
      ]
    },
    {
      "cell_type": "markdown",
      "metadata": {
        "id": "GrT_NWJjUDkE"
      },
      "source": [
        "#### Q2: In what form is Alcohol consumed most in the world, how consistent is the consumption pattern across countries ? What are the top 10 countries that consume Beer?"
      ]
    },
    {
      "cell_type": "code",
      "execution_count": null,
      "metadata": {
        "id": "NODg3UHSUDkF"
      },
      "outputs": [],
      "source": [
        "beer_sum = Alcohol_df.beer_consumption.sum()\n",
        "wine_sum= Alcohol_df.wine_consumption.sum()\n",
        "spirits_sum= Alcohol_df.spirits_consumption.sum()\n",
        "other_sum= Alcohol_df.other_consumption.sum()\n",
        "total = beer_sum+wine_sum+spirits_sum+other_sum\n",
        "beer = (beer_sum*100)/total\n",
        "wine = (wine_sum*100)/total\n",
        "spirits = (spirits_sum*100)/total\n",
        "other = (other_sum*100)/total"
      ]
    },
    {
      "cell_type": "code",
      "execution_count": null,
      "metadata": {
        "id": "RSE-g5FBUDkH",
        "outputId": "2b11164e-8f62-4b0b-a3ac-378ba3d74d00"
      },
      "outputs": [
        {
          "data": {
            "image/png": "[encoded data removed]",
            "text/plain": [
              "<Figure size 720x360 with 1 Axes>"
            ]
          },
          "metadata": {},
          "output_type": "display_data"
        }
      ],
      "source": [
        "data =[beer,wine,spirits,other]\n",
        "labels = ['Beer','Wine','Spirits','Other']\n",
        "plt.title('Global Consumption Trend')   \n",
        "plt.pie(data, labels = labels)\n",
        "plt.show()"
      ]
    },
    {
      "cell_type": "markdown",
      "metadata": {
        "id": "WdRN1WwGUDkI"
      },
      "source": [
        "The chart clearly depicts that Beer is the most popular Alcoholic Beverage consumed globally followed by wine.  "
      ]
    },
    {
      "cell_type": "code",
      "execution_count": null,
      "metadata": {
        "id": "E7EupbeCUDkI",
        "outputId": "3f8f8881-954a-4c8c-e473-876e6b1e45ba"
      },
      "outputs": [
        {
          "data": {
            "text/plain": [
              "<AxesSubplot:title={'center':'Distribution of beer consumption'}, xlabel='beer_consumption'>"
            ]
          },
          "execution_count": 42,
          "metadata": {},
          "output_type": "execute_result"
        },
        {
          "data": {
            "image/png": "[encoded data removed]",
            "text/plain": [
              "<Figure size 720x360 with 1 Axes>"
            ]
          },
          "metadata": {
            "needs_background": "light"
          },
          "output_type": "display_data"
        }
      ],
      "source": [
        "plt.title('Distribution of beer consumption')\n",
        "sns.boxplot(x = Alcohol_df.beer_consumption)"
      ]
    },
    {
      "cell_type": "markdown",
      "metadata": {
        "id": "fIybP0PVUDkJ"
      },
      "source": [
        "The three dots on the graph represent the outliers. The line in the box represents the Median consumption. 75% of countries consume beer between 0-4 litres while 25% fall in the range of 0-8.  "
      ]
    },
    {
      "cell_type": "markdown",
      "metadata": {
        "id": "72sL6hZwUDkK"
      },
      "source": [
        "**Top 10 countries that consume beer**"
      ]
    },
    {
      "cell_type": "code",
      "execution_count": null,
      "metadata": {
        "id": "_QZqYLrVUDkK",
        "outputId": "180b9a8f-7ea8-43f4-978b-26e4530a0112"
      },
      "outputs": [
        {
          "data": {
            "image/png": "[encoded data removed]",
            "text/plain": [
              "<Figure size 1080x576 with 1 Axes>"
            ]
          },
          "metadata": {
            "needs_background": "light"
          },
          "output_type": "display_data"
        }
      ],
      "source": [
        "matplotlib.rcParams['figure.figsize'] = (15, 8)\n",
        "Top10_df= Alcohol_df.sort_values(by='beer_consumption', ascending = False).head(10)\n",
        "plt.title('Top 10 countries that consume beer')\n",
        "sns.barplot(x=Top10_df.country, y =Top10_df.beer_consumption)\n",
        "plt.show()"
      ]
    },
    {
      "cell_type": "markdown",
      "metadata": {
        "id": "l7WxJxV2UDkL"
      },
      "source": [
        "#### Q3: What is the ratio of Alcohol consumed as Beverage to that for other puposes?\n"
      ]
    },
    {
      "cell_type": "code",
      "execution_count": null,
      "metadata": {
        "id": "EFv6pbgOUDkM"
      },
      "outputs": [],
      "source": [
        "Total_beer_consumption = np.sum(Alcohol_df['beer_consumption'])\n",
        "Total_wine_consumption= np.sum(Alcohol_df['wine_consumption'])\n",
        "Total_other_consumption = np.sum(Alcohol_df['spirits_consumption'])+np.sum(Alcohol_df['other_consumption'])\n",
        "Total_beverage = Total_beer_consumption + Total_wine_consumption\n",
        "Total_global_consumption= np.sum(Alcohol_df['total_consumption'])"
      ]
    },
    {
      "cell_type": "code",
      "execution_count": null,
      "metadata": {
        "id": "PDjTtVtNUDkN",
        "outputId": "e5fc813f-60d1-4fa4-ac96-12ca4c6a0c6e"
      },
      "outputs": [
        {
          "data": {
            "text/plain": [
              "1.5145315034993827"
            ]
          },
          "execution_count": 45,
          "metadata": {},
          "output_type": "execute_result"
        }
      ],
      "source": [
        "Categorical_Ratio = Total_beverage/Total_other_consumption\n",
        "Categorical_Ratio"
      ]
    },
    {
      "cell_type": "code",
      "execution_count": null,
      "metadata": {
        "id": "PN6zrhtMUDkN"
      },
      "outputs": [],
      "source": [
        "Beverage =  Total_beverage*100/Total_global_consumption\n",
        "Other = Total_other_consumption*100/Total_global_consumption"
      ]
    },
    {
      "cell_type": "code",
      "execution_count": null,
      "metadata": {
        "id": "k8psl69xUDkO",
        "outputId": "e8654e5b-a565-418d-b57e-b94c62acb883"
      },
      "outputs": [
        {
          "data": {
            "image/png": "[encoded data removed]",
            "text/plain": [
              "<Figure size 1080x576 with 1 Axes>"
            ]
          },
          "metadata": {},
          "output_type": "display_data"
        }
      ],
      "source": [
        "data =[Beverage,Other]\n",
        "labels = ['Beverage','Other']\n",
        "plt.title('Consumption by category')   \n",
        "plt.pie(data, labels = labels)\n",
        "plt.show()"
      ]
    },
    {
      "cell_type": "markdown",
      "metadata": {
        "id": "iMwfmFlAUDkO"
      },
      "source": [
        "Amount of Alcohol used as a beverage is 1.5 times that of the amount used for other purposes including spirits. "
      ]
    },
    {
      "cell_type": "markdown",
      "metadata": {
        "id": "pYygW2-BUDkP"
      },
      "source": [
        "#### Q4: Which countries have the highest and lowest amount of unrecorded consumption? Is there a relationship between Unrecorded consumption and Beverage Consumption?\n"
      ]
    },
    {
      "cell_type": "code",
      "execution_count": null,
      "metadata": {
        "id": "hSiu_UxqUDkP",
        "outputId": "6cc11194-fc4d-40b2-e5ad-a06b5f4eea7b"
      },
      "outputs": [
        {
          "data": {
            "image/png": "[encoded data removed]",
            "text/plain": [
              "<Figure size 1080x576 with 1 Axes>"
            ]
          },
          "metadata": {
            "needs_background": "light"
          },
          "output_type": "display_data"
        }
      ],
      "source": [
        "plt.title('Countries with highest Unrecorded Consumption')\n",
        "sns.barplot(x=Alcohol_df.sort_values(by =\"unrecorded_consumption\", ascending = False).head(10).country, y=Alcohol_df.sort_values(by =\"unrecorded_consumption\", ascending = False).head(10).unrecorded_consumption)\n",
        "plt.show()"
      ]
    },
    {
      "cell_type": "code",
      "execution_count": null,
      "metadata": {
        "id": "olxPLmugUDkQ",
        "outputId": "9c730523-4bcf-45ff-bfb0-1e68db35b8a8"
      },
      "outputs": [
        {
          "data": {
            "image/png": "[encoded data removed]",
            "text/plain": [
              "<Figure size 1080x576 with 1 Axes>"
            ]
          },
          "metadata": {
            "needs_background": "light"
          },
          "output_type": "display_data"
        }
      ],
      "source": [
        "plt.title('Countries with lowest Unrecorded Consumption')\n",
        "sns.barplot(x=Alcohol_df.sort_values(by =\"unrecorded_consumption\").head(10).country, y=Alcohol_df.sort_values(by =\"unrecorded_consumption\").head(10).unrecorded_consumption)\n",
        "plt.show()"
      ]
    },
    {
      "cell_type": "code",
      "execution_count": null,
      "metadata": {
        "id": "AlqRP7BhUDkQ",
        "outputId": "1decaf9b-8c11-43eb-ad64-f96e6826a454"
      },
      "outputs": [
        {
          "data": {
            "image/png": "[encoded data removed]",
            "text/plain": [
              "<Figure size 720x360 with 1 Axes>"
            ]
          },
          "metadata": {
            "needs_background": "light"
          },
          "output_type": "display_data"
        }
      ],
      "source": [
        "matplotlib.rcParams['figure.figsize'] = (10, 5)\n",
        "plt.title('Unrecorded and Beverage Consumption')\n",
        "sns.scatterplot(x = Alcohol_df['unrecorded_consumption'], y = Alcohol_df['beverage_consumption'])\n",
        "plt.show()"
      ]
    },
    {
      "cell_type": "code",
      "execution_count": null,
      "metadata": {
        "id": "zLElBJX9UDkR",
        "outputId": "d875447d-72a5-4602-9241-2c8582a4e7e9"
      },
      "outputs": [
        {
          "data": {
            "image/png": "[encoded data removed]",
            "text/plain": [
              "<Figure size 720x360 with 1 Axes>"
            ]
          },
          "metadata": {
            "needs_background": "light"
          },
          "output_type": "display_data"
        }
      ],
      "source": [
        "plt.title('Unrecorded and Beer Consumption')\n",
        "sns.scatterplot(x = Alcohol_df['unrecorded_consumption'], y = Alcohol_df['beer_consumption'])\n",
        "plt.show()"
      ]
    },
    {
      "cell_type": "markdown",
      "metadata": {
        "id": "fKOfXrGYUDkR"
      },
      "source": [
        "There is a positive relationship between the amount of Alcohol Consumed as a beverage to that of unrecorded consumption. However, this may not depict a true picture because the beverage consumption in the table does not include beverage that was bought and consumed illegaly"
      ]
    },
    {
      "cell_type": "markdown",
      "metadata": {
        "id": "0VJmCg-SUDkS"
      },
      "source": [
        "#### Q5: Is there any relationship between unrecorded and Total Consumption? "
      ]
    },
    {
      "cell_type": "code",
      "execution_count": null,
      "metadata": {
        "id": "XpE9XAB2UDkS",
        "outputId": "c5ffb8cc-c2e8-43f9-9d88-848617d04985"
      },
      "outputs": [
        {
          "data": {
            "image/png": "[encoded data removed]",
            "text/plain": [
              "<Figure size 720x360 with 1 Axes>"
            ]
          },
          "metadata": {
            "needs_background": "light"
          },
          "output_type": "display_data"
        }
      ],
      "source": [
        "plt.title('Unrecorded and Total Consumption')\n",
        "sns.scatterplot(x = Alcohol_df['total_consumption'], y = Alcohol_df['unrecorded_consumption'])\n",
        "plt.show()"
      ]
    },
    {
      "cell_type": "markdown",
      "metadata": {
        "id": "32fLhCpsUDkT"
      },
      "source": [
        "As the total consumption increases the unrecorded consumption first increases than begins to decrease suggesting a quadratic relationship."
      ]
    },
    {
      "cell_type": "markdown",
      "metadata": {
        "id": "hDfiTwYWUDkV"
      },
      "source": [
        "## Inferences and Conclusion\n",
        "\n",
        "#### Inferences\n",
        "- Although alcohol is used in various products, it's majorly consumed as a beverage.\n",
        "- Beer is one of the most popular ways of consuming alcohol across the world.\n",
        "- Consumption of Alcohol is highly influenced by the Cultural and Religious factors\n",
        "- There is a positive relationship between beer consumption and Unrecorded consumption at lower levels of alcohol consumption which fades as level of beer consumption increases.\n",
        "- As the total consumption increases the unrecorded consumption first increases than begins to decrease suggesting a quadratic relationship.\n",
        "\n",
        "#### Conclusion\n",
        "- Alcohol is one of the most controversial and necessary products that is produced and consumed throughout the world. A lot of countries ban the use of Alcohol as Beverage, however people still end up consuming it illegaly giving rise to a black Market. However, as the size of this black market increases, it becomes more and more difficult to sustain it. \n",
        "- Among alcoholic drinks, Beer is the most common drink. This could be because it is usually cheaper compared to othe drinks and also easily accessible. Countries like Yemen, Iraq etc have lower alcohol consumption then most European countries. \n"
      ]
    },
    {
      "cell_type": "markdown",
      "metadata": {
        "id": "I9o_jeZhUDkW"
      },
      "source": [
        "## References and Future Work\n",
        "\n",
        "### References:\n",
        "- Python: https://www.w3schools.com/python/\n",
        "- Matplotlib: https://www.geeksforgeeks.org/matplotlib-tutorial/\n",
        "- Seaborn: https://seaborn.pydata.org/\n",
        "\n",
        "### Future Work\n",
        "- The analysis can be extended by specifying the continents and researching conumption patterns across continents.\n",
        "- Further one can build a robust consumer behaviour model by analysing additional factors other than price, availabilty etc. that affect Alcohol like culture, Religion, Democracy Index etc using Dummy Regression\n"
      ]
    }
  ],
  "metadata": {
    "language_info": {
      "codemirror_mode": {
        "name": "ipython",
        "version": 3
      },
      "file_extension": ".py",
      "mimetype": "text/x-python",
      "name": "python",
      "nbconvert_exporter": "python",
      "pygments_lexer": "ipython3",
      "version": "3.9.7"
    },
    "colab": {
      "provenance": []
    }
  },
  "nbformat": 4,
  "nbformat_minor": 0
}